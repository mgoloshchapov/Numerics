{
 "cells": [
  {
   "cell_type": "markdown",
   "metadata": {
    "id": "MeXTSdSfKdL2"
   },
   "source": [
    "## *Задача 1. Генераторы разреженных матриц* \n"
   ]
  },
  {
   "cell_type": "markdown",
   "metadata": {
    "id": "19smb2owQS40"
   },
   "source": [
    "Реализовать с помощью scipy генератор полосатых матриц, который должен поддерживать функции:\n",
    "* Генерация абсолютно случайной полосатой матрицы $n\\times m$\n",
    "* Генерация полосатой матрицы с постоянными коэффициентами вдоль каждой полосы $n\\times n$\n",
    "* Генерация случайного возмущения матрицы $n\\times m$, каждый элемент которой не превосходит по модулю заданный $\\varepsilon$\n",
    "* Генерация полосатой матрицы, в которой полосы заданы векторами.\n",
    "\n",
    " Сравнить три приведённых ниже метода создания матриц между собой по использованию памяти, используя измерение размера объектов в Python (sys.getsizeof(object[, default])). \n",
    " Реализовать генератор матриц всеми тремя методами, сравнить их также по скорости (для решения систем уравнений).\n",
    "\n",
    "Для повышения производительности можно использовать sparse.linalg.splu(A).solve(b) , который использует LU-декомпозицию, после чего объект SuperLU  имеет свой собственный метод solve.\n",
    "\n",
    "Реализуйте генератор матриц, используя этот метод. \n",
    "https://docs.scipy.org/doc/scipy/reference/sparse.linalg.html#module-scipy.sparse.linalg   \n",
    "\n",
    "Убедитесь измерением времени работы, что он работает быстрее. Однако третий метод считается самым предпочтительным. Найдите, в чём недостаток предложенного метода, и покажите его с помощью измерений.\n",
    "\n",
    "Для измерений можно использовать \n",
    "\n",
    "https://docs.python.org/3/library/resource.html#resource-usage  "
   ]
  },
  {
   "cell_type": "code",
   "execution_count": null,
   "metadata": {
    "id": "fpAZctoEOXxC"
   },
   "outputs": [],
   "source": [
    "import sys as ss\n",
    "import scipy\n",
    "import numpy as np\n",
    "N = 10\n",
    "m = 3\n",
    "Ap, As, An, Aw, Ae = np.ones(N), np.ones(N), np.ones(N), np.ones(N), np.ones(N)\n",
    "diagonals = [Ap, As, An, Aw, Ae]\n",
    "A = scipy.sparse.diags(diagonals, [0, -1, 1, -m, m]).toarray()\n",
    "x = scipy.linalg.solve(A, b)\n",
    "print(A, x, sep = '\\n')\n"
   ]
  },
  {
   "cell_type": "code",
   "execution_count": null,
   "metadata": {
    "id": "erDyhJCuQyfz"
   },
   "outputs": [],
   "source": [
    "import sys as ss\n",
    "import scipy\n",
    "import numpy as np\n",
    "N = 10 \n",
    "m = 3\n",
    "Ap, As, An, Aw, Ae = np.ones(N), np.ones(N), np.ones(N), np.ones(N), np.ones(N)\n",
    "A = np.zeros((2 * m + 1, N))\n",
    "A[0] = Ae\n",
    "A[m - 1] = An\n",
    "A[m] = Ap\n",
    "A[m + 1] = As\n",
    "A[2 * m] = Aw\n",
    "x = scipy.linalg.solve_banded((m, m), A, b)\n",
    "print(A, x, sep = '\\n')"
   ]
  },
  {
   "cell_type": "code",
   "execution_count": null,
   "metadata": {
    "id": "qk7z0LV1TR6y"
   },
   "outputs": [],
   "source": [
    "import sys as ss\n",
    "import scipy\n",
    "import numpy as np\n",
    "from scipy.sparse.linalg import spsolve\n",
    "N = 10\n",
    "m = 3\n",
    "Ap, As, An, Aw, Ae = np.ones(N), np.ones(N), np.ones(N), np.ones(N), np.ones(N)\n",
    "diagonals = [Ap, As, An, Aw, Ae]\n",
    "A = scipy.sparse.diags(diagonals, [0, -1, 1, -m, m])\n",
    "x = spsolve(A,b)\n",
    "\n",
    "# убрали .toarray() - чтобы сохранить разреженную форму\n",
    "\n",
    "# https://docs.scipy.org/doc/scipy/reference/sparse.linalg.html#module-scipy.sparse.linalg \n",
    "\n",
    "print(A, x, sep = '\\n')\n"
   ]
  },
  {
   "cell_type": "markdown",
   "metadata": {
    "id": "sS3EHa1aKmJi"
   },
   "source": [
    "# Задача 2. Метод Якоби.\n"
   ]
  },
  {
   "cell_type": "markdown",
   "metadata": {
    "id": "scYTfKDO7lTJ"
   },
   "source": [
    "Реализуйте метод итераций для решения системы линейных уравнений (метод Якоби). Для этого перепишите уравнение $A x=b$, выделив диагональную часть матрицы $A$ :\n",
    "\n",
    "$$\n",
    "A=D+(A-D),\n",
    "$$\n",
    "\n",
    "в виде\n",
    "\n",
    "$$\n",
    "x_{n+1}=B x_n+c,\n",
    "$$\n",
    "\n",
    "где $B=D^{-1}(D-A)$. Найдите $c$.\n",
    "Создайте случайную матрицу с диагональным доминированием. \n",
    "\n"
   ]
  },
  {
   "cell_type": "code",
   "execution_count": 3,
   "metadata": {
    "id": "ZONatbD77wU7"
   },
   "outputs": [],
   "source": [
    "import numpy as np\n",
    "rnd = np.random. RandomState (1234)\n",
    "n=10\n",
    "A= rnd.uniform (size=(n,n))+np.diag([15]*n)\n",
    "b= rnd.uniform (size=n)\n"
   ]
  },
  {
   "cell_type": "markdown",
   "metadata": {
    "id": "gk0Vecog7wpq"
   },
   "source": [
    "Вычислите норму соотвутствующей матрицы $B$ и выполните итерации Якоби. Убедитесь, что результирующий вектор $x$ действительно решает исходную систему.\n",
    "\n",
    "Матрица $A$, с которой вы работали выше, по построению доминируется диагональю. Что произойдёт, если уменьшать величину диагональных элементов? Проверьте сходимость итераций Якоби (вычислите также норму матрицы $B$ ). "
   ]
  },
  {
   "cell_type": "markdown",
   "metadata": {
    "id": "gpR6GBRtKmXq"
   },
   "source": [
    "# Задача 3. Метод вращений и QR-разложение."
   ]
  },
  {
   "cell_type": "markdown",
   "metadata": {
    "id": "IsnxYiIS9_qT"
   },
   "source": [
    "После первой стадии метода вращений Гивенса система имеет вид "
   ]
  },
  {
   "cell_type": "markdown",
   "metadata": {
    "id": "o38hlqPO9g7r"
   },
   "source": [
    "\\begin{aligned}\n",
    "&a_{11}^{(n-1)} x_1+a_{12}^{(n-1)} x_2+a_{13}^{(n-1)} x_3+\\ldots+a_{1 n}^{(n-1)} x_n=b_1^{(n-1)}\\\\\n",
    "&a_{22}^{(1)} x_2+a_{23}^{(1)} x_3+\\ldots+a_{2 n}^{(1)} x_n=b_2^{(1)} \\text {, }\\\\\n",
    "\\ldots\\\\\n",
    "&a_{n 2}^{(1)} x_2+a_{n 3}^{(1)} x_3+\\ldots+a_{n n}^{(1)} x_n=b_n^{(1)} .\n",
    "\\end{aligned} "
   ]
  },
  {
   "cell_type": "markdown",
   "metadata": {
    "id": "qq33P4d7-DjQ"
   },
   "source": [
    "Доказать следующие формулы: \n",
    "$$\n",
    "\\begin{aligned}\n",
    "&a_{1 j}^{(l-1)}=c_{1 l} a_{1 j}^{(l-2)}+s_{1 l} a_{l j}, \\quad a_{l j}^{(1)}=-s_{1 l} a_{1 j}^{(l-2)}+c_{1 l} a_{l j}, \\quad a_{1 j}^{(0)}=a_{1 j},\\\\\n",
    "&\\begin{aligned}\n",
    "& j=1,2, \\ldots, n, \\\\\n",
    "b_1^{(l-1)}=c_{1 l} b_1^{(l-2)}+s_{1 l} b_l, \\quad \\quad b_l^{(1)}=&-s_{1 l} b_1^{(l-2)}+c_{1 l} b_l, \\\\\n",
    "l=2,3, \\ldots, n,\n",
    "\\end{aligned}\\\\\n",
    "&c_{1 l}=\\frac{a_{11}^{(l-2)}}{\\sqrt{\\left(a_{11}^{(l-2)}\\right)^2+a_{l 1}^2}}, \\quad s_{1 l}=\\frac{a_{l 1}}{\\sqrt{\\left(a_{11}^{(l-2)}\\right)^2+a_{l 1}^2}},\n",
    "\\\\\n",
    "& l=2,3, \\ldots, n,\\\\\n",
    "\\end{aligned}\n",
    "$$"
   ]
  },
  {
   "cell_type": "markdown",
   "metadata": {
    "id": "kPjp8qP0-4Cp"
   },
   "source": [
    "После второй стадии метода вращения Гивенса система уравнений имеет вид:\n",
    "\n",
    "\\begin{aligned}\n",
    "&a_{11}^{(n-1)} x_1+a_{12}^{(n-1)} x_2+a_{13}^{(n-1)} x_3+\\ldots+a_{1 n}^{(n-1)} x_n=b_1^{(n-1)}\\\\\n",
    "&a_{22}^{(n-1)} x_2+a_{23}^{(n-1)} x_3+\\ldots+a_{2 n}^{(n-1)} x_n=b_2^{(n-1)} \\text {, }\\\\\n",
    "&a_{33}^{(2)} x_3+\\ldots+a_{3 n}^{(2)} x_n=b_3^{(2)} \\text {, }\\\\\n",
    "\\ldots \\\\\n",
    "&a_{n 3}^{(2)} x_3+\\ldots+a_{n n}^{(2)} x_n=b_n^{(2)}\n",
    "\\end{aligned}  "
   ]
  },
  {
   "cell_type": "markdown",
   "metadata": {
    "id": "lJxuwUP-_KRZ"
   },
   "source": [
    "Доказать следующие формулы \n",
    "$$\n",
    "\\begin{aligned}\n",
    "&a_{2 j}^{(l-1)}=c_{2 l} a_{2 j}^{(l-2)}+s_{2 l} a_{l j}^{(1)}, \\quad a_{l j}^{(2)}=-s_{2 l} a_{2 j}^{(l-2)}+c_{2 l} a_{l j}^{(1)} \\text {, }\\\\\n",
    "&j=2,3, \\ldots, n\\\\\n",
    "&\\begin{aligned}\n",
    "b_2^{(l-1)}=c_{2 l} b_2^{(l-2)}+s_{2 l} b_l^{(1)}, \\quad \\quad b_l^{(2)}=&-s_{2 l} b_2^{(l-2)}+c_{2 l} b_l^{(1)}, \\\\\n",
    "& l=3,4, \\ldots, n,\n",
    "\\end{aligned}\\\\\n",
    "&c_{2 l}=\\frac{a_{22}^{(l-2)}}{\\sqrt{\\left(a_{22}^{(l-2)}\\right)^2+\\left(a_{l 2}^{(1)}\\right)^2}}, \\quad s_{2 l}=\\frac{a_{l 2}^{(1)}}{\\sqrt{\\left(a_{22}^{(l-2)}\\right)^2+\\left(a_{l 2}^{(1)}\\right)^2}}\n",
    "\\end{aligned}  \n",
    "$$"
   ]
  },
  {
   "cell_type": "markdown",
   "metadata": {
    "id": "FdEaBjGZ_b0i"
   },
   "source": [
    "После (n-1) шагов метода Гивенса получаем систему:\n",
    "\n",
    "\\begin{aligned}\n",
    "&a_{11}^{(n-1)} x_1+a_{12}^{(n-1)} x_2+a_{13}^{(n-1)} x_3+\\ldots+a_{1 n}^{(n-1)} x_n=b_1^{(n-1)},\\\\\n",
    "&a_{22}^{(n-1)} x_2+a_{23}^{(n-1)} x_3+\\ldots+a_{2 n}^{(n-1)} x_n=b_2^{(n-1)} \\text {, }\\\\\n",
    "\\ldots \\\\\n",
    "&a_{n n}^{(n-1)} x_n=b_n^{(n-1)} \\text {, }\n",
    "\\end{aligned}  \n",
    "\n",
    "\n"
   ]
  },
  {
   "cell_type": "markdown",
   "metadata": {
    "id": "sU1UOEWM_rOh"
   },
   "source": [
    "Где\n",
    "\n",
    "\\begin{aligned}\n",
    "&a_{k j}^{(l-1)}=c_{k l} a_{k j}^{(l-2)}+s_{k l} a_{l j}^{(k-1)}, \\quad a_{l j}^{(k)}=-s_{k l} a_{k j}^{(l-2)}+c_{k l} a_{l j}^{(k-1)}\\\\\n",
    "&j=k, k+1, \\ldots, n,\\\\\n",
    "&b_k^{(l-1)}=c_{k l} b_k^{(l-2)}+s_{k l} b_l^{(k-1)}, \\quad b_l^{(k)}=-s_{k l} b_k^{(l-2)}+c_{k l} b_l^{(k-1)} \\text {, }\\\\\n",
    "&k=1, \\ldots, n, \\quad l=k+1, \\ldots, n\n",
    "\\end{aligned} \n",
    "\n",
    "а  \n",
    "$$\n",
    "c_{k l}=\\frac{a_{k k}^{(l-2)}}{\\sqrt{\\left(a_{k k}^{(l-2)}\\right)^2+\\left(a_{l k}^{(k-1)}\\right)^2}}, \\quad s_{k l}=\\frac{a_{l k}^{(k-1)}}{\\sqrt{\\left(a_{k k}^{(l-2)}\\right)^2+\\left(a_{l k}^{(k-1)}\\right)^2}}\n",
    "$$ "
   ]
  },
  {
   "cell_type": "markdown",
   "metadata": {
    "id": "xZE7dz2wZGzd"
   },
   "source": [
    "Доказать, что метод Гивенса реализует QR-разложение матрицы.\n",
    "\n"
   ]
  },
  {
   "cell_type": "markdown",
   "metadata": {
    "id": "-4to-6uKAKdh"
   },
   "source": [
    "$$\n",
    "A=Q R,\n",
    "$$\n",
    "где $Q$ - ортогональная матрица, а $R-$ верхняя треугольная с положительными элементами на главной диагонали."
   ]
  },
  {
   "cell_type": "markdown",
   "metadata": {
    "id": "8-476ZEtKmk5"
   },
   "source": [
    "# Задача 4. Асимпотика метода Гивенса."
   ]
  },
  {
   "cell_type": "markdown",
   "metadata": {
    "id": "xzG3RPf-T07c"
   },
   "source": [
    "Покажите, что при больших n метод Гивенса требует\n",
    "$$\n",
    "\\approx 4 n^3 / 3\n",
    "$$\n",
    "  действий умножения.  Докажите, что метод Гаусса требует примерно в 4 раза меньше.  \n",
    "\n",
    "Примените и тот, и другой метод для решения систем уравнений, используя библиотечные функции, и продемонстрируйте эту разницу измерением времени работы.\n",
    "\n",
    ".\n"
   ]
  },
  {
   "cell_type": "markdown",
   "metadata": {
    "id": "s8jGlqhJKmpB"
   },
   "source": [
    "# Задача 5. Уравнение Пуассона методом Зейделя."
   ]
  },
  {
   "cell_type": "code",
   "execution_count": 5,
   "metadata": {
    "id": "seY8JppiCsGL"
   },
   "outputs": [],
   "source": [
    "import numpy as np\n",
    "from scipy.linalg import block_diag"
   ]
  },
  {
   "cell_type": "markdown",
   "metadata": {
    "id": "XOsayBHhCt7S"
   },
   "source": [
    "Рассмотрим систему линейных уравнений, матрица правой части которой является \"ленточной\" и имеет следующую структуру: ненулевые элементы расположены на трех центральных диагонялях и на двух \"крыльях\". Матрицы такой структуры возникают, например, при решении задачи на нахождение электростатического потенциала $\\phi(x, y)$, создаваемого двумерным распределением заряда $\\rho(x, y)$ при дискретизации на сетке уравнения Пуассона\n",
    "\n",
    "$$\n",
    "\\Delta \\phi=-4 \\pi \\rho .\n",
    "$$\n",
    "\n",
    "(детали см. напр. А.А. Самарский, А.В. Гулин, Численные методы, Ч. 3 гл. 1, параграф 1).\n",
    "Размер матрицы растет с уменьшением шага сетки $h$ как $O\\left(1 / h^2\\right)$. Таким образом, приходится иметь дело с разреженными матрицами огромного размера.\n",
    "Матрицу m создадим следующим образом:"
   ]
  },
  {
   "cell_type": "code",
   "execution_count": 6,
   "metadata": {
    "id": "Ds0r91mgC3-C"
   },
   "outputs": [],
   "source": [
    "n = 5\n",
    "\n",
    "# Диагональный блок\n",
    "a = np.zeros((n-1, n-1))\n",
    "\n",
    "idx = np.arange(n-1)\n",
    "\n",
    "a[idx, idx] = -4\n",
    "a[idx[:-1], idx[:-1]+1] = 1\n",
    "a[idx[1:], idx[1:]-1] = 1\n",
    "\n",
    "# собираем блочно-диагональную `m`\n",
    "m = block_diag(a, a, a, a, a)\n",
    "\n",
    "# заполняем \"крылья\"\n",
    "idx = np.arange(m.shape[0])\n",
    "\n",
    "m[idx[:-n+1], idx[:-n+1] + n-1] = 1\n",
    "m[idx[n-1:], idx[n-1:] - n+1] = 1"
   ]
  },
  {
   "cell_type": "code",
   "execution_count": 7,
   "metadata": {
    "colab": {
     "base_uri": "https://localhost:8080/"
    },
    "id": "D98xMZXKDBio",
    "outputId": "756b3b86-328e-4fde-cf7b-f13fa19b3379"
   },
   "outputs": [
    {
     "name": "stdout",
     "output_type": "stream",
     "text": [
      "[[-4.  1.  0.  0.  1.  0.  0.  0.  0.  0.  0.  0.  0.  0.  0.  0.  0.  0.  0.  0.]\n",
      " [ 1. -4.  1.  0.  0.  1.  0.  0.  0.  0.  0.  0.  0.  0.  0.  0.  0.  0.  0.  0.]\n",
      " [ 0.  1. -4.  1.  0.  0.  1.  0.  0.  0.  0.  0.  0.  0.  0.  0.  0.  0.  0.  0.]\n",
      " [ 0.  0.  1. -4.  0.  0.  0.  1.  0.  0.  0.  0.  0.  0.  0.  0.  0.  0.  0.  0.]\n",
      " [ 1.  0.  0.  0. -4.  1.  0.  0.  1.  0.  0.  0.  0.  0.  0.  0.  0.  0.  0.  0.]\n",
      " [ 0.  1.  0.  0.  1. -4.  1.  0.  0.  1.  0.  0.  0.  0.  0.  0.  0.  0.  0.  0.]\n",
      " [ 0.  0.  1.  0.  0.  1. -4.  1.  0.  0.  1.  0.  0.  0.  0.  0.  0.  0.  0.  0.]\n",
      " [ 0.  0.  0.  1.  0.  0.  1. -4.  0.  0.  0.  1.  0.  0.  0.  0.  0.  0.  0.  0.]\n",
      " [ 0.  0.  0.  0.  1.  0.  0.  0. -4.  1.  0.  0.  1.  0.  0.  0.  0.  0.  0.  0.]\n",
      " [ 0.  0.  0.  0.  0.  1.  0.  0.  1. -4.  1.  0.  0.  1.  0.  0.  0.  0.  0.  0.]\n",
      " [ 0.  0.  0.  0.  0.  0.  1.  0.  0.  1. -4.  1.  0.  0.  1.  0.  0.  0.  0.  0.]\n",
      " [ 0.  0.  0.  0.  0.  0.  0.  1.  0.  0.  1. -4.  0.  0.  0.  1.  0.  0.  0.  0.]\n",
      " [ 0.  0.  0.  0.  0.  0.  0.  0.  1.  0.  0.  0. -4.  1.  0.  0.  1.  0.  0.  0.]\n",
      " [ 0.  0.  0.  0.  0.  0.  0.  0.  0.  1.  0.  0.  1. -4.  1.  0.  0.  1.  0.  0.]\n",
      " [ 0.  0.  0.  0.  0.  0.  0.  0.  0.  0.  1.  0.  0.  1. -4.  1.  0.  0.  1.  0.]\n",
      " [ 0.  0.  0.  0.  0.  0.  0.  0.  0.  0.  0.  1.  0.  0.  1. -4.  0.  0.  0.  1.]\n",
      " [ 0.  0.  0.  0.  0.  0.  0.  0.  0.  0.  0.  0.  1.  0.  0.  0. -4.  1.  0.  0.]\n",
      " [ 0.  0.  0.  0.  0.  0.  0.  0.  0.  0.  0.  0.  0.  1.  0.  0.  1. -4.  1.  0.]\n",
      " [ 0.  0.  0.  0.  0.  0.  0.  0.  0.  0.  0.  0.  0.  0.  1.  0.  0.  1. -4.  1.]\n",
      " [ 0.  0.  0.  0.  0.  0.  0.  0.  0.  0.  0.  0.  0.  0.  0.  1.  0.  0.  1. -4.]]\n"
     ]
    }
   ],
   "source": [
    "with np.printoptions(linewidth=99):\n",
    "    print(m)"
   ]
  },
  {
   "cell_type": "code",
   "execution_count": 8,
   "metadata": {
    "colab": {
     "base_uri": "https://localhost:8080/",
     "height": 292
    },
    "id": "EgRdH0oTDHBZ",
    "outputId": "b007ac0e-a833-47ff-9230-b17c60d1c662"
   },
   "outputs": [
    {
     "data": {
      "text/plain": [
       "<matplotlib.image.AxesImage at 0x7f5c44c5fd50>"
      ]
     },
     "execution_count": 8,
     "metadata": {},
     "output_type": "execute_result"
    },
    {
     "data": {
      "image/png": "[encoded data removed]",
      "text/plain": [
       "<Figure size 288x288 with 1 Axes>"
      ]
     },
     "metadata": {
      "needs_background": "light"
     },
     "output_type": "display_data"
    }
   ],
   "source": [
    "import matplotlib.pyplot as plt\n",
    "plt.matshow(m)"
   ]
  },
  {
   "cell_type": "markdown",
   "metadata": {
    "id": "bPYSMkIgC6Kh"
   },
   "source": [
    "Зададим вектор правой части системы "
   ]
  },
  {
   "cell_type": "code",
   "execution_count": 9,
   "metadata": {
    "id": "gYO494gmDKiR"
   },
   "outputs": [],
   "source": [
    "b = np.zeros(m.shape[0])\n",
    "b[m.shape[0]//2] = -1"
   ]
  },
  {
   "cell_type": "markdown",
   "metadata": {
    "id": "78HFJ2cTDM6K"
   },
   "source": [
    "Составить функцию, вычисляющую решение системы уравнений $m x=b$ методом Зейделя с заданной точностью $\\epsilon$. Прокоментировать зависимость числа итераций, требуемых для достижения заданной точности, от $\\epsilon$. "
   ]
  },
  {
   "cell_type": "markdown",
   "metadata": {
    "id": "634QUTkyKnWR"
   },
   "source": [
    "# Задача 6. FAST PYTHON."
   ]
  },
  {
   "cell_type": "markdown",
   "metadata": {
    "id": "TLumOjz5EBcp"
   },
   "source": [
    "Изучите документ FastPython.ipynb .\n",
    "Используя Numba, сделайте ускорение циклов в методе Зейделя в задаче 5.  Сравните время работы ускоренной и неускоренной программ. "
   ]
  }
 ],
 "metadata": {
  "colab": {
   "collapsed_sections": [
    "MeXTSdSfKdL2",
    "sS3EHa1aKmJi",
    "gpR6GBRtKmXq",
    "8-476ZEtKmk5",
    "s8jGlqhJKmpB",
    "634QUTkyKnWR"
   ],
   "provenance": [],
   "toc_visible": true
  },
  "kernelspec": {
   "display_name": "Python 3 (ipykernel)",
   "language": "python",
   "name": "python3"
  },
  "language_info": {
   "codemirror_mode": {
    "name": "ipython",
    "version": 3
   },
   "file_extension": ".py",
   "mimetype": "text/x-python",
   "name": "python",
   "nbconvert_exporter": "python",
   "pygments_lexer": "ipython3",
   "version": "3.10.0"
  }
 },
 "nbformat": 4,
 "nbformat_minor": 1
}

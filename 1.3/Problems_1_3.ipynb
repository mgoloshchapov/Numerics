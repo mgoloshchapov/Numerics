{
 "cells": [
  {
   "cell_type": "code",
   "execution_count": 3,
   "metadata": {},
   "outputs": [],
   "source": [
    "import numpy as np\n",
    "import matplotlib.pyplot as plt"
   ]
  },
  {
   "cell_type": "markdown",
   "metadata": {
    "id": "MeXTSdSfKdL2"
   },
   "source": [
    "## *Задача 1.  Генератор матриц* \n"
   ]
  },
  {
   "cell_type": "markdown",
   "metadata": {
    "id": "19smb2owQS40"
   },
   "source": [
    "Реализовать генератор матрциц, который должен поддерживать функции:\n",
    "* Генерация абсолютно случайной матрицы $n\\times m$\n",
    "* Генерация случайной диагональной матрицы $n\\times n$\n",
    "* Генерация случайной верхнетреугольной матрицы\n",
    "* Генерация случайной нижнетреугольной матрицы\n",
    "* Генерация симметричной матрицы\n",
    "* Генерация вырожденной матрицы\n",
    "* Генерация матрицы ступенчатого вида $n\\times n$ ранга $m$\n",
    "* Генерация возмущения матрицы $n\\times m$, каждый элемент которой не превосходит по модулю заданный $\\varepsilon$\n",
    "\n",
    "Оценить вероятность того, что созданная матрица будет вырожденной. \n",
    "\n",
    "Оценить величину нормы матрицы возмущений в зависимости от параметра $\\varepsilon$ (оценить верхную границу).\n"
   ]
  },
  {
   "cell_type": "code",
   "execution_count": 47,
   "metadata": {},
   "outputs": [],
   "source": [
    "def generator(shape, mtype=None, eps=1e-12):\n",
    "    \"\"\"\n",
    "    mtype: diag, triu, tril, symmetric, singular\n",
    "    size: 2d-tuple\n",
    "    eps: eps for perturbation matrix\n",
    "    \"\"\"\n",
    "    \n",
    "    M = np.random.random(shape)\n",
    "    \n",
    "    if mtype is None:\n",
    "        return M\n",
    "    elif mtype == \"triu\":\n",
    "        return np.triu(M)\n",
    "    elif mtype == \"tril\":\n",
    "        return np.tril(M) \n",
    "    elif mtype == \"symmetric\":\n",
    "        if shape[0]==shape[1]:\n",
    "            return (M+M.T)/2\n",
    "        else:\n",
    "            raise ValueError(\"Incorrect dimensions\")\n",
    "            \n",
    "    elif mtype == \"diag\":\n",
    "        if shape[0]==shape[1]:\n",
    "            v = np.random.random(shape[0])\n",
    "            return np.diag(v)\n",
    "        else:\n",
    "            raise ValueError(\"Incorrect dimensions\")\n",
    "    elif mtype == \"singular\":\n",
    "        if shape[0]==shape[1]:\n",
    "            v = np.random.random(shape[0])\n",
    "            return v.T @ v\n",
    "        else:\n",
    "            raise ValueError(\"Incorrect dimensions\")\n",
    "            \n",
    "    elif mtype == \"step\":\n",
    "        m, n = shape \n",
    "        if m <= n:\n",
    "            A = np.random.random((n, n))\n",
    "            return np.triu(A, k=n-m)\n",
    "        else:\n",
    "            raise ValueError(\"m should be less or equal to n\")\n",
    "            \n",
    "    elif mtype == \"pert\":\n",
    "        return eps*np.random.random(shape)\n"
   ]
  },
  {
   "cell_type": "code",
   "execution_count": 48,
   "metadata": {},
   "outputs": [
    {
     "data": {
      "text/plain": [
       "array([[0.3440984 , 0.        , 0.        ],\n",
       "       [0.        , 0.99896971, 0.        ],\n",
       "       [0.        , 0.        , 0.47690296]])"
      ]
     },
     "execution_count": 48,
     "metadata": {},
     "output_type": "execute_result"
    }
   ],
   "source": [
    "generator((3,3), \"diag\")"
   ]
  },
  {
   "cell_type": "markdown",
   "metadata": {
    "id": "sS3EHa1aKmJi"
   },
   "source": [
    "# Задача 2. Эквивалентность первых двух норм.\n"
   ]
  },
  {
   "cell_type": "markdown",
   "metadata": {
    "id": "nMUUtmljQZO1"
   },
   "source": [
    "Найдите константы $C_1$  и  $C_2$ такие, что\n",
    "\n",
    "$\\ C_1||\\mathbf{x}||_2\\leq||\\mathbf{x}||_1\\leq C_2||\\mathbf{x}||_2$ \n",
    "\n",
    "\n",
    "Указание: в качестве подсказки можно использовать визуализацию норм из документа с теорией. "
   ]
  },
  {
   "cell_type": "markdown",
   "metadata": {},
   "source": [
    "$||x||_2 \\le ||x||_1 \\le \\sqrt{n}||x||_2$\n",
    "\n",
    "\n",
    "- $||x||^2_1 = \\sum_i |x_i|^2 + \\sum_{i\\neq j} |x_i||x_j| \\ge \\sum_i |x_i|^2 =||x||_2 $\n",
    "\n",
    "- Неравенство о средних: $\\frac{\\sum |x_i|}{n} \\le \\sqrt{\\frac{\\sum |x_i|^2}{n}} \\Leftrightarrow ||x||_1 \\le \\sqrt{n} ||x||_2$"
   ]
  },
  {
   "cell_type": "markdown",
   "metadata": {
    "id": "gpR6GBRtKmXq"
   },
   "source": [
    "# Задача 3.  Евклидова и бесконечная норма."
   ]
  },
  {
   "cell_type": "markdown",
   "metadata": {
    "id": "xQ7BfspuTsOt"
   },
   "source": [
    " Пусть x — вектор размерности n, а A — матрица m×n. Докажите следующие неравенства и приведите\n",
    "примеры таких x и A, при которых неравенства обращаются в равенства: \n",
    "\n",
    "- $\\|x\\|_2 \\leq \\sqrt{m}\\|x\\|_{\\infty}$\n",
    "- $\\|A\\|_{\\infty} \\leq \\sqrt{n}\\|A\\|_2$"
   ]
  },
  {
   "cell_type": "markdown",
   "metadata": {},
   "source": [
    "- $||x||_2 = \\sqrt{\\sum_{i=1}^m |x_i|^2} \\le \\sqrt{\\sum_{i=1}^m (\\max_{1 \\le i\\le m}|x_i|)^2} = \\sqrt{\\sum_{i=1}^m ||x||^2_\\infty} = \\sqrt{m}||x||_\\infty$\n",
    "\n",
    "\n",
    "$||A||_\\infty  =\\text{sup} \\frac{||Ax||_\\infty}{||x||_\\infty} \\leq \\text{sup} \\frac{||Ax||_2}{||x||_2/\\sqrt{n}} = \\sqrt{n}||A||_2$\n",
    "\n",
    "Знаем, что $||x||_\\infty \\leq \\|x\\|_2 \\leq \\sqrt{n}\\|x\\|_{\\infty}$"
   ]
  },
  {
   "cell_type": "markdown",
   "metadata": {
    "id": "8-476ZEtKmk5"
   },
   "source": [
    "# Задача 4. Норма Фробениуса."
   ]
  },
  {
   "cell_type": "markdown",
   "metadata": {
    "id": "xzG3RPf-T07c"
   },
   "source": [
    "Докажите, что для любой унитарной матрицы U (и для произвольной матрицы A) имеет место равенство\n",
    "\n",
    " $∥UA∥_F = ∥AU∥_F = ∥A∥_F$ , \n",
    " \n",
    " где $∥ ∥_F$ — норма Фробениуса.\n",
    "\n",
    "Указание.  \n",
    "Задачу можно решить без вычислений, если использовать геометрический смысл нормы Фробениуса и геометрические свойства умножения на унитарную матрицу (что при умножении на неё сохраняется). "
   ]
  },
  {
   "cell_type": "markdown",
   "metadata": {},
   "source": [
    "$||A||_F = \\sqrt{trace(AA^\\dagger)} = \\sqrt{trace(AUU^\\dagger A^\\dagger)} = \\sqrt{trace(AU (AU)^\\dagger)} = ||AU||_F$\n",
    "\n",
    "$||A||_F = \\sqrt{trace(A^\\dagger A)} = \\sqrt{trace(A^\\dagger U^\\dagger U A)} = \\sqrt{trace((UA)^\\dagger UA)} = ||UA||_F$"
   ]
  },
  {
   "cell_type": "markdown",
   "metadata": {
    "id": "s8jGlqhJKmpB"
   },
   "source": [
    "# Задача 5. Тензорная свёртка.  "
   ]
  },
  {
   "cell_type": "markdown",
   "metadata": {
    "id": "smdRrcYuT4he"
   },
   "source": [
    "Рассмотрим функцию, отображающую шесть тензоров на один тензор: $Z\\left(\\lambda^{(1)}, \\lambda^{(2)}, \\lambda^{(3)}, \\Gamma^{(1)}, \\Gamma^{(2)}, U\\right)$ :\n",
    "\n",
    "\n",
    "$$\n",
    "Z_{a h i j}=\\sum_{b c d e f g} \\lambda^{(1)}{ }_{a b} \\Gamma_{c b d}^{(1)} \\lambda^{(2)}{ }_{d e} \\Gamma_{f e g}^{(2)} \\lambda_{g h}^{(3)} U_{i j c f}\n",
    "$$ \n",
    "\n",
    "редположив, что все индексы пробегают значения от 1 до χ, проведите эксперимент и сравните скорость\n",
    "различных реализаций функции Z. Исследуйте значения χ в диапазоне 3–50. \n",
    "\n",
    "\n",
    "- В файле convolution. ipynb вы можете найти релизацию глупого способа вычисления этой свертки, который требует $\\chi^4 \\times \\chi^6=\\chi^{10}$ операций. На самом деле это можно вычислить гораздо быстрее!\n",
    "- С помощью функции numpy . einsum (нужно использовать аргумент optimize), можно добиться намного большей производительности. Чтобы понять, что происходит под капотом, воспользуйтесь функцией numpy.einsum_path. Какое минимальное количество операций требуется для вычисления $Z$ ?\n",
    "- Посмотрев на вывод функции numpy.einsum_path, peализуйте алгоритм для вычисления $Z$, который столь же эффективен, как numpy.einsum, но использует более элементарные numpy.dot и numpy.tensor_dot."
   ]
  },
  {
   "cell_type": "code",
   "execution_count": 92,
   "id": "74c4965f",
   "metadata": {},
   "outputs": [],
   "source": [
    "c = 3"
   ]
  },
  {
   "cell_type": "code",
   "execution_count": 93,
   "id": "41852c3b",
   "metadata": {},
   "outputs": [],
   "source": [
    "# Generate some data\n",
    "np.random.seed(42)\n",
    "lambda1 = np.random.normal(size=(c, c))\n",
    "lambda2 = np.random.normal(size=(c, c))\n",
    "lambda3 = np.random.normal(size=(c, c))\n",
    "G1 = np.random.normal(size=(c, c, c))\n",
    "G2 = np.random.normal(size=(c, c, c))\n",
    "U = np.random.normal(size=(c, c, c, c))"
   ]
  },
  {
   "cell_type": "code",
   "execution_count": 94,
   "id": "c72140e1",
   "metadata": {},
   "outputs": [],
   "source": [
    "def Z_naive(lambda1, lambda2, lambda3, G1, G2, U):\n",
    "    c = lambda1.shape[0]\n",
    "    Z = np.zeros(shape=(c, c, c, c))\n",
    "    for a, b, c, d, e, f, g, h, i, j in itertools.product(*([range(c)]*10)):\n",
    "        Z[a, h, i, j] += lambda1[a, b]*lambda2[d, e]*lambda3[g, h]*G1[c, b, d]*G2[f, e, g]*U[i, j, c, f]\n",
    "    return Z\n",
    "\n",
    "def Z(lambda1, lambda2, lambda3, G1, G2, U):\n",
    "    return np.einsum(\"ab,cbd,de,feg,gh,ijcf->ahij\", lambda1, G1, lambda2, G2, lambda3, U, optimize=True)"
   ]
  },
  {
   "cell_type": "code",
   "execution_count": 95,
   "id": "a4ba9f23",
   "metadata": {},
   "outputs": [
    {
     "name": "stdout",
     "output_type": "stream",
     "text": [
      "615 µs ± 144 µs per loop (mean ± std. dev. of 2 runs, 10 loops each)\n"
     ]
    }
   ],
   "source": [
    "# %timeit -n 2 -r 2 Z_naive(lambda1, lambda2, lambda3, G1, G2, U)\n",
    "%timeit -n 10 -r 2 Z(lambda1, lambda2, lambda3, G1, G2, U)"
   ]
  },
  {
   "cell_type": "code",
   "execution_count": 96,
   "id": "19913a61",
   "metadata": {},
   "outputs": [
    {
     "name": "stdout",
     "output_type": "stream",
     "text": [
      "(3, 3, 3, 3)\n",
      "(3, 3, 3, 3)\n"
     ]
    }
   ],
   "source": [
    "print(Z_naive(lambda1, lambda2, lambda3, G1, G2, U).shape)\n",
    "print(Z(lambda1, lambda2, lambda3, G1, G2, U).shape)"
   ]
  },
  {
   "cell_type": "code",
   "execution_count": 97,
   "id": "860ebc25",
   "metadata": {},
   "outputs": [
    {
     "name": "stdout",
     "output_type": "stream",
     "text": [
      "4.99716543697806e-26\n"
     ]
    }
   ],
   "source": [
    "print((np.sum(Z(lambda1, lambda2, lambda3, G1, G2, U) - Z_naive(lambda1, lambda2, lambda3, G1, G2, U))**2))"
   ]
  },
  {
   "cell_type": "code",
   "execution_count": 98,
   "id": "15b20588",
   "metadata": {},
   "outputs": [
    {
     "name": "stdout",
     "output_type": "stream",
     "text": [
      "['einsum_path', (0, 1), (0, 1), (0, 3), (1, 2), (0, 1)]   Complete contraction:  ab,cbd,de,feg,gh,ijcf->ahij\n",
      "         Naive scaling:  10\n",
      "     Optimized scaling:  6\n",
      "      Naive FLOP count:  3.543e+05\n",
      "  Optimized FLOP count:  2.431e+03\n",
      "   Theoretical speedup:  145.740\n",
      "  Largest intermediate:  8.100e+01 elements\n",
      "--------------------------------------------------------------------------\n",
      "scaling                  current                                remaining\n",
      "--------------------------------------------------------------------------\n",
      "   4                 cbd,ab->acd                 de,feg,gh,ijcf,acd->ahij\n",
      "   4                 feg,de->dfg                    gh,ijcf,acd,dfg->ahij\n",
      "   4                 dfg,gh->dfh                       ijcf,acd,dfh->ahij\n",
      "   5               dfh,acd->acfh                          ijcf,acfh->ahij\n",
      "   6             acfh,ijcf->ahij                               ahij->ahij\n"
     ]
    }
   ],
   "source": [
    "print(*np.einsum_path(\"ab,cbd,de,feg,gh,ijcf->ahij\", lambda1, G1, lambda2, G2, lambda3, U, optimize=True))"
   ]
  },
  {
   "cell_type": "markdown",
   "id": "87ec392f",
   "metadata": {},
   "source": [
    "__np.einsum__ вычисляет свёртку тензоров, причём разбивает суммирование на несколько этапов:\n",
    " \n",
    "- вычисляет части свёртки по отдельности, создаёт промежуточные массивы(тензоры)\n",
    "- вычисляет свёртку от новых тензоров"
   ]
  },
  {
   "cell_type": "markdown",
   "id": "2359e3ae",
   "metadata": {},
   "source": [
    "__Наивный способ__\n",
    "\n",
    "Для $Z_{ahij}=\\underset{bcdefg}{\\sum}\\lambda^{(1)}_{ab}\\Gamma^{(1)}_{cbd}\\lambda^{(2)}_{de}\\Gamma^{(2)}_{feg}\\lambda^{(3)}_{gh}U_{ijcf}$ с размерностью индексов $\\chi$ есть 6 индексов суммирования, т.е. $Z_{ahij}$ вычисляется за $\\chi ^ 6$, весь тензор за $\\chi ^ 6 \\cdot\\chi ^ 4$"
   ]
  },
  {
   "cell_type": "markdown",
   "id": "10dd2839",
   "metadata": {},
   "source": [
    "__Оптимизированный способ__\n",
    "\n",
    "Делаются свёртки \n",
    "\n",
    "- $\\lambda^{(1)}_{ab}\\Gamma^{(1)}_{cbd} = A_{acd}$ за $\\chi$, т.е. $A$ за $\\chi^4$\n",
    "\n",
    "\n",
    "- $\\lambda^{(2)}_{de}\\Gamma^{(2)}_{feg} = B_{dfg}$, за $\\chi$, т.е. $B$ за $\\chi^4$\n",
    "\n",
    "На этом моменте у нас есть два новых тензора $A, B$, которые мы вычислили за $2 \\chi^4$\n",
    "\n",
    "- $B_{dfg}\\lambda^{(3)}_{gh}=C_{dfh}$ за $\\chi$, т.е. $C$ за $\\chi^4$\n",
    "\n",
    "Добавляется ещё один тензор $C$, который мы вычислили за $\\chi^4$, так как тензоры $B, \\lambda^{(3)}$ были уже известны. На данный момент $3 \\chi^4$ операций\n",
    "\n",
    "\n",
    "- $C_{dfh}A_{acd}=D_{acfh}$ за $\\chi$, т.е. $D$ за $\\chi^3$\n",
    "\n",
    "Новый тензор $D$, суммарно $3 \\chi^4 + \\chi^5$ операций\n",
    "\n",
    "\n",
    "- $D_{acfh}U_{ijcf} = Z_{ahij}$ за $\\chi^{2}$, т.е. ещё $\\chi^{6}$ операций\n",
    "\n",
    "В итоге вычислили тензор $Z$ за $O(\\chi^{6})$ операций, наивный способ совершает $O(\\chi^{10})$ операций. Оптимизация сложности происходит за счёт дополнительного расхода памяти, упрощения выражения, поэтому для небольшого числа операций лучше использовать обычное суммирование."
   ]
  },
  {
   "cell_type": "markdown",
   "id": "2aafecb8",
   "metadata": {},
   "source": [
    "Для $\\chi = 1$ получается (x0.02)\n",
    "\n",
    "\n",
    "naive:  3.59 µs ± 220 ns per loop (mean ± std. dev. of 7 runs, 100,000 loops each)\n",
    "\n",
    "optimised: 225 µs ± 3.51 µs per loop (mean ± std. dev. of 7 runs, 1,000 loops each)"
   ]
  },
  {
   "cell_type": "markdown",
   "id": "92128c85",
   "metadata": {},
   "source": [
    "Для $\\chi = 4$ получается (x4000)\n",
    "\n",
    "\n",
    "naive: 1.59 s ± 25.5 ms per loop (mean ± std. dev. of 2 runs, 2 loops each)\n",
    "\n",
    "optimised: 401 µs ± 17.5 µs per loop (mean ± std. dev. of 2 runs, 100 loops each)"
   ]
  },
  {
   "cell_type": "markdown",
   "id": "db7a9dcc",
   "metadata": {},
   "source": [
    "Для $\\chi=50$: \n",
    "\n",
    "optimised: 438 ms ± 17 ms per loop (mean ± std. dev. of 2 runs, 10 loops each)\n",
    "\n",
    "Для $\\chi=5-50$ naive заexplorить, к сожалению, не получается "
   ]
  },
  {
   "cell_type": "code",
   "execution_count": 326,
   "id": "d332b860",
   "metadata": {},
   "outputs": [
    {
     "data": {
      "image/png": "[encoded data removed]",
      "text/plain": [
       "<Figure size 576x288 with 2 Axes>"
      ]
     },
     "metadata": {
      "needs_background": "light"
     },
     "output_type": "display_data"
    },
    {
     "data": {
      "image/png": "[encoded data removed]",
      "text/plain": [
       "<Figure size 576x288 with 1 Axes>"
      ]
     },
     "metadata": {
      "needs_background": "light"
     },
     "output_type": "display_data"
    }
   ],
   "source": [
    "N, O = [], []\n",
    "C = np.arange(3, 51)\n",
    "\n",
    "for c in C:\n",
    "    np.random.seed(42)\n",
    "    lambda1 = np.random.normal(size=(c, c))\n",
    "    lambda2 = np.random.normal(size=(c, c))\n",
    "    lambda3 = np.random.normal(size=(c, c))\n",
    "    G1 = np.random.normal(size=(c, c, c))\n",
    "    G2 = np.random.normal(size=(c, c, c))\n",
    "    U = np.random.normal(size=(c, c, c, c))\n",
    "    \n",
    "    res = np.einsum_path(\"ab,cbd,de,feg,gh,ijcf->ahij\", lambda1, G1, lambda2, G2, lambda3, U, optimize=True)\n",
    "    n, o = res[1].split('\\n')[3:5]\n",
    "    n = np.float64(n.split(' ')[-1])\n",
    "    o = np.float64(o.split(' ')[-1])\n",
    "    N.append(n)\n",
    "    O.append(o)\n",
    "\n",
    "    \n",
    "plt.rcParams.update({'font.size': 14})\n",
    "plt.figure(figsize=(8,4))\n",
    "\n",
    "plt.subplot(121)\n",
    "plt.plot(C, N, color=\"blue\")\n",
    "plt.title(\"Naive\")\n",
    "plt.xlabel(\"$\\chi$\")\n",
    "plt.ylabel(\"FLOPs\")\n",
    "\n",
    "plt.subplot(122)\n",
    "plt.plot(C, O, color=\"red\")\n",
    "plt.title(\"Optimised\")\n",
    "plt.xlabel(\"$\\chi$\")\n",
    "plt.ylabel(\"FLOPs\")\n",
    "\n",
    "plt.tight_layout()\n",
    "\n",
    "plt.figure(figsize=(8,4))\n",
    "plt.plot(C, N, color=\"blue\", label=\"Naive\")\n",
    "plt.plot(C, O, color=\"red\", label=\"Optimised\")\n",
    "plt.xlabel(\"$\\chi$\")\n",
    "plt.ylabel(\"FLOPs\")\n",
    "\n",
    "plt.legend()\n",
    "\n",
    "plt.tight_layout()"
   ]
  },
  {
   "cell_type": "code",
   "execution_count": 179,
   "id": "688ca9b4",
   "metadata": {},
   "outputs": [],
   "source": [
    "c=2\n",
    "np.random.seed(42)\n",
    "lambda1 = np.random.normal(size=(c, c))\n",
    "lambda2 = np.random.normal(size=(c, c))\n",
    "lambda3 = np.random.normal(size=(c, c))\n",
    "G1 = np.random.normal(size=(c, c, c))\n",
    "G2 = np.random.normal(size=(c, c, c))\n",
    "U = np.random.normal(size=(c, c, c, c))"
   ]
  },
  {
   "cell_type": "code",
   "execution_count": 180,
   "id": "6eeac349",
   "metadata": {},
   "outputs": [
    {
     "data": {
      "text/plain": [
       "array([[[ 0.24196227, -1.91328024],\n",
       "        [-1.72491783, -0.56228753]],\n",
       "\n",
       "       [[-1.01283112,  0.31424733],\n",
       "        [-0.90802408, -1.4123037 ]]])"
      ]
     },
     "execution_count": 180,
     "metadata": {},
     "output_type": "execute_result"
    }
   ],
   "source": [
    "lambda1\n",
    "G1"
   ]
  },
  {
   "cell_type": "code",
   "execution_count": 319,
   "id": "9e977aa4",
   "metadata": {},
   "outputs": [],
   "source": [
    "def mY_Z(lambda1, lambda2, lambda3, G1, G2, U):\n",
    "    c=2\n",
    "    A = np.tensordot(lambda1,G1, axes=([1], [1]))\n",
    "    B = np.tensordot(lambda2, G2, axes=([1],[1]))\n",
    "    C = np.tensordot(B, lambda3, axes=([2], [0]))\n",
    "    D = np.tensordot(A, C, axes=([2], [0]))\n",
    "    Z = np.tensordot(D, U, axes=([1, 2], [2,3]))\n",
    "    \n",
    "    return Z"
   ]
  },
  {
   "cell_type": "code",
   "execution_count": 365,
   "id": "324465ef",
   "metadata": {},
   "outputs": [],
   "source": [
    "assert np.allclose(mY_Z(lambda1, lambda2, lambda3, G1, G2, U), Z(lambda1, lambda2, lambda3, G1, G2, U))"
   ]
  },
  {
   "cell_type": "code",
   "execution_count": 366,
   "id": "207b4224",
   "metadata": {
    "scrolled": false
   },
   "outputs": [],
   "source": [
    "O, my, Oerr, myerr = [], [], [], []\n",
    "C = np.arange(3, 50)\n",
    "\n",
    "for c in C:\n",
    "    np.random.seed(42)\n",
    "    lambda1 = np.random.normal(size=(c, c))\n",
    "    lambda2 = np.random.normal(size=(c, c))\n",
    "    lambda3 = np.random.normal(size=(c, c))\n",
    "    G1 = np.random.normal(size=(c, c, c))\n",
    "    G2 = np.random.normal(size=(c, c, c))\n",
    "    U = np.random.normal(size=(c, c, c, c))\n",
    "    \n",
    "\n",
    "    time1 = %timeit -o -q -n 2 -r 2 mY_Z(lambda1, lambda2, lambda3, G1, G2, U)\n",
    "    time2 = %timeit -o -q -n 2 -r 2 Z(lambda1, lambda2, lambda3, G1, G2, U)\n",
    "    \n",
    "    my.append(time1.average)\n",
    "    myerr.append(3*time1.stdev)\n",
    "    O.append(3*time2.average)\n",
    "    Oerr.append(time2.stdev)"
   ]
  },
  {
   "cell_type": "code",
   "execution_count": 367,
   "id": "f7cb2b04",
   "metadata": {
    "scrolled": true
   },
   "outputs": [
    {
     "data": {
      "image/png": "[encoded data removed]",
      "text/plain": [
       "<Figure size 576x288 with 2 Axes>"
      ]
     },
     "metadata": {
      "needs_background": "light"
     },
     "output_type": "display_data"
    },
    {
     "data": {
      "image/png": "[encoded data removed]",
      "text/plain": [
       "<Figure size 576x288 with 1 Axes>"
      ]
     },
     "metadata": {
      "needs_background": "light"
     },
     "output_type": "display_data"
    }
   ],
   "source": [
    "plt.rcParams.update({'font.size': 14})\n",
    "plt.figure(figsize=(8,4))\n",
    "\n",
    "plt.subplot(121)\n",
    "plt.plot(C, my, color=\"blue\")\n",
    "plt.title(\"My\")\n",
    "plt.xlabel(\"$\\chi$\")\n",
    "plt.ylabel(\"time,sec\")\n",
    "\n",
    "plt.subplot(122)\n",
    "plt.plot(C, O, color=\"red\")\n",
    "plt.title(\"Optimised\")\n",
    "plt.xlabel(\"$\\chi$\")\n",
    "plt.ylabel(\"time,sec\")\n",
    "\n",
    "plt.tight_layout()\n",
    "\n",
    "plt.figure(figsize=(8,4))\n",
    "plt.errorbar(C, my, myerr, color=\"blue\", label=\"My\")\n",
    "plt.errorbar(C, O, Oerr, color=\"red\", label=\"Optimised\")\n",
    "plt.xlabel(\"$\\chi$\")\n",
    "plt.ylabel(\"time,sec\")\n",
    "\n",
    "plt.legend()\n",
    "\n",
    "plt.tight_layout()"
   ]
  },
  {
   "cell_type": "markdown",
   "metadata": {
    "id": "634QUTkyKnWR"
   },
   "source": [
    "# Задача 6.  k-means clustering. "
   ]
  },
  {
   "cell_type": "markdown",
   "metadata": {
    "id": "8gHzjikte83x"
   },
   "source": [
    "Выбор метрики (нормы разницы между любыми двумя векторами, или функции расстояния между любой парой точек) очень важен для многих алгоритмов машинного обучения. Рассмотрим на примере задачи кластеризации. \n",
    "\n",
    "Кластеризация — это разделение множества входных векторов на группы (кластеры) по степени «схожести» друг с другом.\n",
    "\n",
    "Кластеризация в Data Mining приобретает ценность тогда, когда она выступает одним из этапов анализа данных, построения законченного аналитического решения. Аналитику часто легче выделить группы схожих объектов, изучить их особенности и построить для каждой группы отдельную модель, чем создавать одну общую модель для всех данных. Таким приемом постоянно пользуются в маркетинге, выделяя группы клиентов, покупателей, товаров и разрабатывая для каждой из них отдельную стратегию.\n",
    "\n",
    "\n",
    "Евклидова метрика \n",
    "\n",
    "\n",
    "— наиболее распространенная. Она является геометрическим расстоянием в многомерном пространстве.\n",
    "\n",
    "\n",
    "Квадрат евклидовой метрики. \n",
    "\n",
    "\n",
    "Иногда может возникнуть желание возвести в квадрат стандартное евклидово расстояние, чтобы придать большие веса более отдаленным друг от друга объектам.\n",
    "\n",
    "\n",
    "Метрика городских кварталов (манхэттенская). \n",
    "\n",
    "\n",
    "Это расстояние является суммой модулей разностей координат. В большинстве случаев эта метрика приводит к таким же результатам, как и для обычного расстояния Евклида. Однако отметим, что для этой меры влияние отдельных больших разностей (выбросов) уменьшается (так как они не возводятся в квадрат).\n",
    "\n",
    "Расстояние Чебышева. \n",
    "\n",
    "Это метрика шахматной доски (Расстоянием Чебышёва между n-мерными числовыми векторами называется максимум модуля разности компонент этих векторов). Это расстояние может оказаться полезным, когда желают определить два объекта как «различные», если они различаются по какой-либо одной координате (каким-либо одним измерением).\n",
    "\n",
    "Расстояние Чебышёва называют также метрикой Чебышёва, равномерной метрикой, sup-метрикой и бокс-метрикой; также иногда она называется метрикой решётки, метрикой шахматной доски, метрикой хода короля и 8-метрикой.\n",
    "\n",
    "Степенная метрика. \n",
    "\n",
    "Иногда желают прогрессивно увеличить или уменьшить вес, относящийся к размерности, для которой соответствующие объекты сильно отличаются. Это может быть достигнуто с использованием степенного расстояния.\n",
    "\n",
    "\n",
    "Выбор метрики (критерия схожести) лежит полностью на исследователе. При выборе различных мер результаты кластеризации могут существенно отличаться.\n",
    "\n",
    "Алгоритм k-means (k-средних)\n",
    "\n",
    "Наиболее простой, но в то же время достаточно неточный метод кластеризации в классической реализации. Он разбивает множество элементов векторного пространства на заранее известное число кластеров k. Действие алгоритма таково, что он стремится минимизировать среднеквадратичное отклонение на точках каждого кластера. Основная идея заключается в том, что на каждой итерации перевычисляется центр масс для каждого кластера, полученного на предыдущем шаге, затем векторы разбиваются на кластеры вновь в соответствии с тем, какой из новых центров оказался ближе по выбранной метрике. Алгоритм завершается, когда на какой-то итерации не происходит изменения кластеров.\n",
    "\n",
    "Проблемы алгоритма k-means:\n",
    "* необходимо заранее знать количество кластеров. Мной было предложено метод определения количества кластеров, который основывался на нахождении кластеров, распределенных по некоему закону (в моем случае все сводилось к нормальному закону). После этого выполнялся классический алгоритм k-means, который давал более точные результаты.\n",
    "* алгоритм очень чувствителен к выбору начальных центров кластеров. Классический вариант подразумевает случайный выбор класторов, что очень часто являлось источником погрешности. Как вариант решения, необходимо проводить исследования объекта для более точного определения центров начальных кластеров. В моем случае на начальном этапе предлагается принимать в качестве центов самые отдаленные точки кластеров.\n",
    "* не справляется с задачей, когда объект принадлежит к разным кластерам в равной степени или не принадлежит ни одному.\n",
    "\n",
    "\n",
    "В блокноте kmeans.ipynb вы можете найти наивную реализацию.\n",
    "Изучите код, убедитесь, что вы его поняли. Вы найдете там две функции dist_i и dist_ij, которые\n",
    "(намеренно) реализованы довольно неэффективно. Улучшите их, избавившись от циклов с помощью век-\n",
    "торизации из numpy, и измерьте ускорение алгоритма в целом при N = 10000.\n",
    "\n",
    "\n",
    "\n",
    "\n",
    "\n",
    "\n"
   ]
  },
  {
   "cell_type": "code",
   "execution_count": 64,
   "id": "1a00a71e",
   "metadata": {},
   "outputs": [],
   "source": [
    "N = 1000\n",
    "K = 3\n",
    "d = 3\n",
    "L = 10\n",
    "\n",
    "np.random.seed(42)\n",
    "mu_true = np.random.uniform(-L, L, size = (K, d))\n",
    "data = np.random.normal(mu_true, size = (N, K, d))\n",
    "data = np.vstack(data)\n",
    "np.random.shuffle(data)"
   ]
  },
  {
   "cell_type": "code",
   "execution_count": 65,
   "id": "381a2bc2",
   "metadata": {},
   "outputs": [],
   "source": [
    "def scatter_plot(data, col=None):\n",
    "    from mpl_toolkits.mplot3d import Axes3D \n",
    "    %matplotlib inline\n",
    "    fig = plt.figure()\n",
    "    ax = fig.add_subplot(111, projection='3d')\n",
    "    ax.scatter(data[:,0], data[:,1], data[:,2], s = 0.5, color=col)\n",
    "    plt.show()"
   ]
  },
  {
   "cell_type": "code",
   "execution_count": 66,
   "id": "1cc70b18",
   "metadata": {
    "scrolled": true
   },
   "outputs": [
    {
     "data": {
      "image/png": "[encoded data removed]",
      "text/plain": [
       "<Figure size 432x288 with 1 Axes>"
      ]
     },
     "metadata": {
      "needs_background": "light"
     },
     "output_type": "display_data"
    }
   ],
   "source": [
    "if d == 3:\n",
    "    scatter_plot(data, None)"
   ]
  },
  {
   "cell_type": "code",
   "execution_count": 67,
   "id": "e32355c0",
   "metadata": {},
   "outputs": [],
   "source": [
    "def naive_dist_i(x, mu):\n",
    "    # x: N datapoints, mu: N cluster centers\n",
    "    # returns: D_{i}, squared distances from x[i] to mu[i]\n",
    "    dist = np.zeros(x.shape[0])\n",
    "    for i in range(x.shape[0]):\n",
    "        dist[i] = np.sum((x[i] - mu[i])**2)\n",
    "    return dist\n",
    "\n",
    "def naive_dist_ij(x, mu):\n",
    "    # x: N datapoints, mu: K cluster centers\n",
    "    # returns: D_{ij}, squared distances from x[i] to mu[j]\n",
    "    dist = np.zeros((x.shape[0], mu.shape[0]))\n",
    "    for i in range(x.shape[0]):\n",
    "        for j in range(mu.shape[0]):\n",
    "            dist[i, j] += np.sum((x[i] - mu[j])**2)\n",
    "    return dist\n",
    "\n",
    "def naive_kmeans():\n",
    "    ss_list=[]\n",
    "    mu = data[np.random.choice(range(data.shape[0]), K, replace=False)]\n",
    "    c = np.random.randint(low=0, high=K-1, size=data.shape[0])\n",
    "    for n in range(10):\n",
    "        c =  np.argmin(naive_dist_ij(data, mu), axis = 1)    \n",
    "        ss = np.mean(naive_dist_i(data, mu[c]))\n",
    "        ss_list.append(ss)    \n",
    "        for i in range(K):\n",
    "            cluster_members = data[c == i]\n",
    "            cluster_members = cluster_members.mean(axis = 0)\n",
    "            mu[i] = cluster_members\n",
    "    return ss_list, c"
   ]
  },
  {
   "cell_type": "code",
   "execution_count": 79,
   "id": "6b0e811d",
   "metadata": {},
   "outputs": [],
   "source": [
    "def dist_i(x, mu):\n",
    "    # x: N datapoints, mu: N cluster centers\n",
    "    # returns: D_{i}, squared distances from x[i] to mu[i]\n",
    "    return np.sum((x - mu)**2)\n",
    "\n",
    "def dist_ij(x, mu):\n",
    "    # x: N datapoints, mu: K cluster centers\n",
    "    # returns: D_{ij}, squared distances from x[i] to mu[j]\n",
    "    n, k = x.shape\n",
    "    x_mod = np.transpose(x[None,...].repeat(k, axis=0), axes=(1, 0, 2))\n",
    "    mu_mod = mu[None, ...]\n",
    "    return np.sum((x_mod-mu_mod)*(x_mod-mu_mod), axis=2)\n",
    "   \n",
    "def kmeans():\n",
    "    ss_list=[]\n",
    "    mu = data[np.random.choice(range(data.shape[0]), K, replace=False)]\n",
    "    c = np.random.randint(low=0, high=K-1, size=data.shape[0])\n",
    "    \n",
    "    for _ in range(10):\n",
    "        c =  np.argmin(dist_ij(data, mu), axis = 1)    \n",
    "        ss = np.mean(dist_i(data, mu[c]))\n",
    "        ss_list.append(ss)    \n",
    "        for i in range(K):\n",
    "            mu[i] = data[c==i].mean(axis=0)\n",
    "    return ss_list, c"
   ]
  },
  {
   "cell_type": "code",
   "execution_count": 82,
   "id": "84416419",
   "metadata": {},
   "outputs": [
    {
     "name": "stdout",
     "output_type": "stream",
     "text": [
      "885 ms ± 51.9 ms per loop (mean ± std. dev. of 7 runs, 1 loop each)\n"
     ]
    },
    {
     "name": "stderr",
     "output_type": "stream",
     "text": [
      "/var/folders/h9/ll8t8frd1r575llt96l1glhm0000gn/T/ipykernel_21445/3230926319.py:24: RuntimeWarning: Mean of empty slice.\n",
      "  mu[i] = data[c==i].mean(axis=0)\n",
      "/Users/goloshch/.conda/envs/NPM/lib/python3.10/site-packages/numpy/core/_methods.py:181: RuntimeWarning: invalid value encountered in true_divide\n",
      "  ret = um.true_divide(\n"
     ]
    },
    {
     "name": "stdout",
     "output_type": "stream",
     "text": [
      "7.57 ms ± 419 µs per loop (mean ± std. dev. of 7 runs, 100 loops each)\n"
     ]
    }
   ],
   "source": [
    "%timeit naive_kmeans()\n",
    "%timeit kmeans()"
   ]
  },
  {
   "cell_type": "code",
   "execution_count": 83,
   "id": "84fb1f46",
   "metadata": {},
   "outputs": [
    {
     "data": {
      "image/png": "[encoded data removed]",
      "text/plain": [
       "<Figure size 432x288 with 1 Axes>"
      ]
     },
     "metadata": {
      "needs_background": "light"
     },
     "output_type": "display_data"
    }
   ],
   "source": [
    "ss_list, c = kmeans()\n",
    "plt.plot(ss_list)\n",
    "\n",
    "colors = np.array([plt.cm.cool(i/(K-1)) for i in range(K)])\n",
    "if d == 3:\n",
    "    scatter_plot(data, colors[c])"
   ]
  },
  {
   "cell_type": "markdown",
   "id": "717e0a58",
   "metadata": {},
   "source": [
    "__Вывод:__\n",
    "\n",
    "- При N=1000 naive_kmeans работает за 874 ms ± 77.6 ms ms, kmeans за 7.7 ms ± 265 µs, т.е. быстрее примерно в 100 раз\n",
    "\n",
    "- naive_kmeans для N=10000 мой компухтер уже не вывозит"
   ]
  },
  {
   "cell_type": "markdown",
   "metadata": {
    "id": "gKnAIng1T-Ex"
   },
   "source": [
    "# Дополнительное задание. Нечеткий алгоритм кластеризации с-means.\n"
   ]
  },
  {
   "cell_type": "markdown",
   "metadata": {
    "id": "umU-jwFAT7nj"
   },
   "source": [
    "С последней проблемой k-means успешно справляется алгоритм с-means. Вместо однозначного ответа на вопрос к какому кластеру относится объект, он определяет вероятность того, что объект принадлежит к тому или иному кластеру. Таким образом, утверждение «объект А принадлежит к кластеру 1 с вероятностью 90%, к кластеру 2 — 10% » верно и более удобно.\n",
    "\n",
    "Остальные проблемы у с-means такие же, как у k-means, но они нивелируются благодаря нечеткости разбиения.\n",
    "\n",
    "Метод нечеткой кластеризации C-средних имеет ограниченное применение из-за существенного недостатка — невозможность корректного разбиения на кластеры, в случае когда кластеры имеют различную дисперсию по различным размерностям (осям) элементов (например, кластер имеет форму эллипса). Данный недостаток устранен в алгоритмах Mixture models и GMM (Gaussian mixture models). \n",
    "\n",
    "\n",
    "Документация методов кластеризации для sklearn есть здесь https://scikit-learn.org/stable/modules/clustering.html#k-means . \n",
    "\n",
    "\n",
    "\n",
    "Используя библиотеку scikit-learn, реализуйте Gaussian mixture models и обычный k-means.  Подберите такой набор данных, на котором первый метод справляется хорошо, а второй метод даёт плохие результаты, и продемонстрируйте это. Сделайте это для нескольких разных метрик и сравните результаты между собой.\n",
    "\n",
    "https://scikit-learn.ru/example/  примеры подобного.\n",
    "\n",
    "https://neurohive.io/ru/osnovy-data-science/vvedenie-v-scikit-learn/  введение в sklearn. На этом сайте много полезных статей и ссылок на курсы. "
   ]
  }
 ],
 "metadata": {
  "colab": {
   "collapsed_sections": [
    "MeXTSdSfKdL2",
    "sS3EHa1aKmJi",
    "gpR6GBRtKmXq",
    "8-476ZEtKmk5",
    "s8jGlqhJKmpB",
    "634QUTkyKnWR",
    "gKnAIng1T-Ex"
   ],
   "provenance": [],
   "toc_visible": true
  },
  "kernelspec": {
   "display_name": "Python 3 (ipykernel)",
   "language": "python",
   "name": "python3"
  },
  "language_info": {
   "codemirror_mode": {
    "name": "ipython",
    "version": 3
   },
   "file_extension": ".py",
   "mimetype": "text/x-python",
   "name": "python",
   "nbconvert_exporter": "python",
   "pygments_lexer": "ipython3",
   "version": "3.10.0"
  }
 },
 "nbformat": 4,
 "nbformat_minor": 1
}

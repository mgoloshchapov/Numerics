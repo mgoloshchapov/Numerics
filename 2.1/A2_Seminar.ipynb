{
 "cells": [
  {
   "cell_type": "code",
   "execution_count": 2,
   "metadata": {},
   "outputs": [],
   "source": [
    "import numpy as np\n",
    "from matplotlib import pyplot as plt"
   ]
  },
  {
   "cell_type": "markdown",
   "metadata": {},
   "source": [
    "# 1. Прямая с шумом"
   ]
  },
  {
   "cell_type": "markdown",
   "metadata": {},
   "source": [
    "Сгенерируем точки $(x_i, y_i)$ по закону\n",
    "$$\n",
    "    y = w_1 x + w_0 + \\epsilon,\n",
    "$$\n",
    "где $\\epsilon$ - случайная величина из нормального распределения, моделирующая разброс точек. "
   ]
  },
  {
   "cell_type": "code",
   "execution_count": 104,
   "metadata": {},
   "outputs": [],
   "source": [
    "# Возьмем $\\epsilon \\sim \\mathcal{N}(0, 0.3)$. "
   ]
  },
  {
   "cell_type": "code",
   "execution_count": 111,
   "metadata": {},
   "outputs": [],
   "source": [
    "true_w1 = 1.7\n",
    "true_w0 = 2.3\n",
    "# print('True w:', true_w1, true_w0)\n",
    "\n",
    "xs = np.arange(1, 5, 0.2)\n",
    "noise = np.random.normal(0, 0.3, size=xs.shape)\n",
    "ys = xs * true_w1 + true_w0 + noise\n",
    "# [x * true_w1 + true_w0 for x in xs] -- BAD!"
   ]
  },
  {
   "cell_type": "code",
   "execution_count": 60,
   "metadata": {},
   "outputs": [
    {
     "data": {
      "image/png": "[encoded data removed]",
      "text/plain": [
       "<Figure size 432x288 with 1 Axes>"
      ]
     },
     "metadata": {
      "needs_background": "light"
     },
     "output_type": "display_data"
    }
   ],
   "source": [
    "plt.scatter(xs, ys)\n",
    "plt.plot(xs, ys - noise, c='r')\n",
    "plt.show()"
   ]
  },
  {
   "cell_type": "markdown",
   "metadata": {},
   "source": [
    "Применим формулы метода наименьших квадратов, выведенные на лекции:\n",
    "\n",
    "$$\n",
    "    \\hat{w_1} = \\sum_{i=1}^{l} \\frac{(x_i - \\bar{x})(y_i - \\bar{y})} {(x_i - \\bar{x})^2} = \\frac{\\hat{\\text{cov}}(x, y)}{\\hat{\\text{var}} \\, x}, \\qquad \\hat{w_0} = \\bar{y} - \\hat{w_1} \\bar{x},\n",
    "$$\n",
    "где $\\bar{x} = \\frac{1}{l} \\sum_{i=1}^{l} x_i$ и $\\bar{y} = \\frac{1}{l} \\sum_{i=1}^{l} y_i$ - это средние по выборке.\n",
    "\n",
    "Выборочные дисперсии и ковариация:\n",
    "$$\n",
    "    \\hat{\\text{var}} \\, x = \\frac{1}{l} \\sum_{i=1}^{l} (x_i - \\bar{x})^2 \\qquad\n",
    "    \\hat{\\text{var}} \\, y = \\frac{1}{l} \\sum_{i=1}^{l} (y_i - \\bar{y})^2 \\qquad\n",
    "    \\hat{\\text{cov}}(x, y) = \\frac{1}{l} \\sum_{i=1}^{l} (x_i - \\bar{x})(y_i - \\bar{y})\n",
    "$$"
   ]
  },
  {
   "cell_type": "code",
   "execution_count": 51,
   "metadata": {},
   "outputs": [
    {
     "data": {
      "text/plain": [
       "(1.3299999999999994, 3.5751833551933485, 2.1563952051048996)"
      ]
     },
     "execution_count": 51,
     "metadata": {},
     "output_type": "execute_result"
    }
   ],
   "source": [
    "var_x = np.mean((xs - xs.mean()) ** 2)\n",
    "var_y = np.mean((ys - ys.mean()) ** 2)\n",
    "cov_xy = np.mean((xs - xs.mean()) * (ys - ys.mean()))\n",
    "\n",
    "(var_x, var_y, cov_xy)"
   ]
  },
  {
   "cell_type": "code",
   "execution_count": 52,
   "metadata": {},
   "outputs": [
    {
     "data": {
      "text/plain": [
       "(1.3299999999999994, 3.5751833551933485)"
      ]
     },
     "execution_count": 52,
     "metadata": {},
     "output_type": "execute_result"
    }
   ],
   "source": [
    "(np.var(xs), np.var(ys))"
   ]
  },
  {
   "cell_type": "code",
   "execution_count": 55,
   "metadata": {},
   "outputs": [
    {
     "data": {
      "text/plain": [
       "array([[1.33      , 2.15639521],\n",
       "       [2.15639521, 3.57518336]])"
      ]
     },
     "execution_count": 55,
     "metadata": {},
     "output_type": "execute_result"
    }
   ],
   "source": [
    "np.cov([xs, ys], bias=True)"
   ]
  },
  {
   "cell_type": "code",
   "execution_count": 57,
   "metadata": {},
   "outputs": [
    {
     "data": {
      "text/plain": [
       "(1.3299999999999994, 3.5751833551933485, 2.1563952051048996)"
      ]
     },
     "execution_count": 57,
     "metadata": {},
     "output_type": "execute_result"
    }
   ],
   "source": [
    "(np.var(xs), np.var(ys), np.cov([xs, ys], bias=True)[0, 1])"
   ]
  },
  {
   "cell_type": "code",
   "execution_count": 102,
   "metadata": {},
   "outputs": [
    {
     "name": "stdout",
     "output_type": "stream",
     "text": [
      "True w: 1.7 2.3\n",
      "Restored w: 1.6213497782743613 2.4910069650169406\n"
     ]
    }
   ],
   "source": [
    "w1 = cov_xy / var_x\n",
    "w0 = ys.mean() - w1 * xs.mean()\n",
    "\n",
    "print('True w:', true_w1, true_w0)\n",
    "print('Restored w:', w1, w0)"
   ]
  },
  {
   "cell_type": "code",
   "execution_count": 64,
   "metadata": {},
   "outputs": [
    {
     "data": {
      "image/png": "[encoded data removed]",
      "text/plain": [
       "<Figure size 432x288 with 1 Axes>"
      ]
     },
     "metadata": {
      "needs_background": "light"
     },
     "output_type": "display_data"
    }
   ],
   "source": [
    "plt.scatter(xs, ys)\n",
    "plt.plot(xs, ys - noise, c='r')\n",
    "plt.plot(xs, xs * w1 + w0, c='b')\n",
    "plt.show()"
   ]
  },
  {
   "cell_type": "markdown",
   "metadata": {},
   "source": [
    "Посчитаем коэффицент линейной корреляции Пирсона:\n",
    "\n",
    "$$\n",
    "    r = \\frac{\\hat{\\text{cov}}(x, y)}{\\sqrt{ \\hat{\\text{var}} \\, x \\, \\hat{\\text{var}} \\, y}}\n",
    "$$"
   ]
  },
  {
   "cell_type": "code",
   "execution_count": 113,
   "metadata": {},
   "outputs": [
    {
     "data": {
      "text/plain": [
       "0.9889022775571071"
      ]
     },
     "execution_count": 113,
     "metadata": {},
     "output_type": "execute_result"
    }
   ],
   "source": [
    "r = cov_xy / np.sqrt(var_x * var_y)\n",
    "r"
   ]
  },
  {
   "cell_type": "markdown",
   "metadata": {},
   "source": [
    "Воспользуемся формализмом матрицы объект-признак и решением МНК через псевдообратную матрицу.\n",
    "\n",
    "В нашем случае (1D регрессия с учетом смещения $\\check{y} = w_1 x + w_0$) имеем два признака: сам $x$ и постоянный признак $1$, отвечающий смещению.  \n",
    "$$\n",
    "    X = \\begin{pmatrix}\n",
    "        x_1 & 1 \\\\\n",
    "        x_2 & 1 \\\\\n",
    "        \\dots & \\dots \\\\\n",
    "        x_l & 1\n",
    "    \\end{pmatrix} \n",
    "    \\qquad\n",
    "    y = \\begin{pmatrix}\n",
    "        y_1 \\\\\n",
    "        y_2 \\\\\n",
    "        \\dots \\\\\n",
    "        y_l\n",
    "    \\end{pmatrix} \n",
    "$$"
   ]
  },
  {
   "cell_type": "code",
   "execution_count": 65,
   "metadata": {},
   "outputs": [
    {
     "data": {
      "text/plain": [
       "(20,)"
      ]
     },
     "execution_count": 65,
     "metadata": {},
     "output_type": "execute_result"
    }
   ],
   "source": [
    "xs.shape"
   ]
  },
  {
   "cell_type": "code",
   "execution_count": 87,
   "metadata": {},
   "outputs": [
    {
     "data": {
      "text/plain": [
       "(20, 2)"
      ]
     },
     "execution_count": 87,
     "metadata": {},
     "output_type": "execute_result"
    }
   ],
   "source": [
    "X = xs.reshape((-1, 1))\n",
    "X = np.hstack([xs.reshape(-1, 1), np.ones(X.shape)])\n",
    "X.shape"
   ]
  },
  {
   "cell_type": "code",
   "execution_count": 88,
   "metadata": {},
   "outputs": [
    {
     "data": {
      "text/plain": [
       "array([[1., 0.],\n",
       "       [0., 1.]])"
      ]
     },
     "execution_count": 88,
     "metadata": {},
     "output_type": "execute_result"
    }
   ],
   "source": [
    "Q = np.linalg.inv(X.T @ X) @ X.T\n",
    "np.round(Q @ X)"
   ]
  },
  {
   "cell_type": "code",
   "execution_count": null,
   "metadata": {},
   "outputs": [],
   "source": []
  },
  {
   "cell_type": "code",
   "execution_count": 89,
   "metadata": {},
   "outputs": [],
   "source": [
    "def left_pseudoinverse(X):\n",
    "    return np.linalg.inv(X.T @ X) @ X.T"
   ]
  },
  {
   "cell_type": "code",
   "execution_count": 90,
   "metadata": {},
   "outputs": [
    {
     "data": {
      "text/plain": [
       "array([[1., 0.],\n",
       "       [0., 1.]])"
      ]
     },
     "execution_count": 90,
     "metadata": {},
     "output_type": "execute_result"
    }
   ],
   "source": [
    "Q = left_pseudoinverse(X)\n",
    "np.round(Q @ X)"
   ]
  },
  {
   "cell_type": "code",
   "execution_count": 91,
   "metadata": {},
   "outputs": [
    {
     "data": {
      "text/plain": [
       "array([1.62134978, 2.49100697])"
      ]
     },
     "execution_count": 91,
     "metadata": {},
     "output_type": "execute_result"
    }
   ],
   "source": [
    "w = Q @ ys\n",
    "w"
   ]
  },
  {
   "cell_type": "markdown",
   "metadata": {},
   "source": [
    "Учесть систематическую погрешность $y_i \\pm s$ можно при помощи усреднения по ансамблю выборок (приборов), рассматривая случайную величину $\\tilde{y_i} \\sim \\mathcal{N}(y_i, s^2)$.\n",
    "\n",
    "Тогда, как было показано на лекции, для дисперсии параметров модели (весов) получим\n",
    "$$\n",
    "    \\text{var} \\, w_\\alpha = s^2 [(X^T X)^{-1}]_{\\alpha \\alpha}\n",
    "$$\n",
    "И оценкой погрешности будет\n",
    "$$\n",
    "    \\text{погрешность} \\, w_\\alpha \\approx \\sqrt{\\text{var} \\, w_\\alpha} = s \\sqrt{[(X^T X)^{-1}]_{\\alpha \\alpha}}\n",
    "$$\n",
    "\n",
    "\n",
    "Для учета погрешности полезно вычислить матрицу $(X^T X)^{-1}$"
   ]
  },
  {
   "cell_type": "code",
   "execution_count": 98,
   "metadata": {},
   "outputs": [],
   "source": [
    "XTXinv = np.linalg.inv(X.T @ X)"
   ]
  },
  {
   "cell_type": "code",
   "execution_count": 101,
   "metadata": {},
   "outputs": [
    {
     "name": "stdout",
     "output_type": "stream",
     "text": [
      "Погрешность параметров (w1, w0) = s *  (0.19389168358237013, 0.6051160331158263)\n"
     ]
    }
   ],
   "source": [
    "print('Погрешность параметров (w1, w0) = s * ', (np.sqrt(XTXinv[0, 0]), np.sqrt(XTXinv[1, 1])))"
   ]
  }
 ],
 "metadata": {
  "hide_input": false,
  "kernelspec": {
   "display_name": "Python 3",
   "language": "python",
   "name": "python3"
  },
  "language_info": {
   "codemirror_mode": {
    "name": "ipython",
    "version": 3
   },
   "file_extension": ".py",
   "mimetype": "text/x-python",
   "name": "python",
   "nbconvert_exporter": "python",
   "pygments_lexer": "ipython3",
   "version": "3.7.4"
  }
 },
 "nbformat": 4,
 "nbformat_minor": 2
}

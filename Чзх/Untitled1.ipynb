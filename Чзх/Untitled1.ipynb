{
 "cells": [
  {
   "cell_type": "code",
   "execution_count": 176,
   "id": "264a8341",
   "metadata": {},
   "outputs": [],
   "source": [
    "import matplotlib.pyplot as plt\n",
    "import numpy as np\n",
    "from random import randrange"
   ]
  },
  {
   "cell_type": "markdown",
   "id": "94bccda2",
   "metadata": {},
   "source": [
    "### Задача 1"
   ]
  },
  {
   "cell_type": "code",
   "execution_count": 177,
   "id": "f1a8b213",
   "metadata": {},
   "outputs": [
    {
     "data": {
      "text/plain": [
       "array([[2, 2],\n",
       "       [4, 3]])"
      ]
     },
     "metadata": {},
     "output_type": "display_data"
    },
    {
     "data": {
      "text/plain": [
       "array([-0.37228132,  5.37228132])"
      ]
     },
     "metadata": {},
     "output_type": "display_data"
    }
   ],
   "source": [
    "A = np.random.randint(low=0, high=6, size=(2, 2))\n",
    "display(A)\n",
    "display(np.linalg.eigvals(A))"
   ]
  },
  {
   "cell_type": "code",
   "execution_count": 178,
   "id": "98889933",
   "metadata": {},
   "outputs": [],
   "source": [
    "def stepnoy(A, iters=10):\n",
    "    r0 = np.array([[1.0], [1.0]])\n",
    "    r = r0\n",
    "    vals = []\n",
    "    mu = []\n",
    "    for i in range(iters):\n",
    "        r = A@r\n",
    "        r /= np.linalg.norm(r, ord=2)\n",
    "        vals.append((r.T@A@r) / (r.T@r))\n",
    "    B = A - vals[-1]*np.eye(A.shape[0])\n",
    "    \n",
    "    r = r0\n",
    "    for i in range(iters):\n",
    "        r = B@r\n",
    "        r /= np.linalg.norm(r, ord=2)\n",
    "        mu.append((r.T@B@r) / (r.T@r))\n",
    "    mu = np.array(mu)\n",
    "    mu += vals[-1]\n",
    "    \n",
    "    \n",
    "    return mu[-1][0][0], vals[-1][0][0]"
   ]
  },
  {
   "cell_type": "code",
   "execution_count": 183,
   "id": "eddeafdb",
   "metadata": {},
   "outputs": [
    {
     "data": {
      "text/plain": [
       "-0.3722813232690143"
      ]
     },
     "metadata": {},
     "output_type": "display_data"
    },
    {
     "data": {
      "text/plain": [
       "5.372281323270213"
      ]
     },
     "metadata": {},
     "output_type": "display_data"
    },
    {
     "data": {
      "text/plain": [
       "0.0692966918274487"
      ]
     },
     "execution_count": 183,
     "metadata": {},
     "output_type": "execute_result"
    }
   ],
   "source": [
    "a, b = stepnoy(A)\n",
    "display(a, b)\n",
    "\n",
    "q = abs(a/b)\n",
    "q**1"
   ]
  },
  {
   "cell_type": "markdown",
   "id": "f27eb91f",
   "metadata": {},
   "source": [
    "Степенной метод сходится как $\\left|\\frac{\\lambda_{min}}{\\lambda_{max}}\\right|^k$, т.е. как модуль отношения двух найденных собственных значений"
   ]
  },
  {
   "cell_type": "markdown",
   "id": "9a12fe90",
   "metadata": {},
   "source": [
    "### Задача 2"
   ]
  },
  {
   "cell_type": "markdown",
   "id": "bb88c323",
   "metadata": {},
   "source": [
    "Сложность QR-алгоритма определяется сложностью вычисления QR-разложения $O(n^3)$ и количеством итераций k. Итоговая сложность равна $O(n^3k)$"
   ]
  },
  {
   "cell_type": "code",
   "execution_count": 111,
   "id": "ac2db0d5",
   "metadata": {},
   "outputs": [],
   "source": [
    "def QR(A, iters=10000):\n",
    "    A0 = None\n",
    "    Ak = A\n",
    "    err = np.inf\n",
    "    Q = np.eye(A.shape[0])\n",
    "    \n",
    "    for _ in range(iters):\n",
    "        Qk, Rk = np.linalg.qr(Ak, mode=\"complete\")\n",
    "        A0, Ak = Ak, Rk@Qk\n",
    "#         err = np.linalg.norm(Ak - A0)\n",
    "        Q = Q@Qk\n",
    "    \n",
    "    vals = np.sort(np.diag(Ak))\n",
    "    vects = Q\n",
    "    \n",
    "    \n",
    "    return vals, vects"
   ]
  },
  {
   "cell_type": "code",
   "execution_count": 115,
   "id": "c8845a0b",
   "metadata": {},
   "outputs": [
    {
     "data": {
      "text/plain": [
       "array([-3.86254016+0.j        , -1.87916045-0.35211175j,\n",
       "       -1.87916045+0.35211175j, -0.49183585-1.86350108j,\n",
       "       -0.49183585+1.86350108j,  0.61362906+0.j        ,\n",
       "        1.55735714-1.76491425j,  1.55735714+1.76491425j,\n",
       "        3.01619152-0.73237991j,  3.01619152+0.73237991j])"
      ]
     },
     "metadata": {},
     "output_type": "display_data"
    },
    {
     "data": {
      "text/plain": [
       "array([-3.86254016, -1.88446065, -1.87386025, -0.53858456, -0.44508714,\n",
       "        0.61362906,  0.86980278,  2.219512  ,  2.24491149,  3.81287104])"
      ]
     },
     "metadata": {},
     "output_type": "display_data"
    }
   ],
   "source": [
    "n = 10\n",
    "A = np.random.normal(loc = 0.0, scale=1.0, size=(n, n))\n",
    "\n",
    "# np.allclose(np.sort(QR_algorithm(A, 1000)), np.sort(np.linalg.eigvals(A)))\n",
    "display(np.sort(np.linalg.eigvals(A)))\n",
    "display(np.sort(QR(A)[0]))"
   ]
  },
  {
   "cell_type": "code",
   "execution_count": 116,
   "id": "450202e5",
   "metadata": {},
   "outputs": [
    {
     "name": "stderr",
     "output_type": "stream",
     "text": [
      "/Users/goloshch/.conda/envs/NPM/lib/python3.10/site-packages/matplotlib/cbook/__init__.py:1298: ComplexWarning: Casting complex values to real discards the imaginary part\n",
      "  return np.asarray(x, float)\n"
     ]
    },
    {
     "data": {
      "text/plain": [
       "[<matplotlib.lines.Line2D at 0x7f8f50b6acb0>]"
      ]
     },
     "execution_count": 116,
     "metadata": {},
     "output_type": "execute_result"
    },
    {
     "data": {
      "image/png": "[encoded data removed]",
      "text/plain": [
       "<Figure size 432x288 with 1 Axes>"
      ]
     },
     "metadata": {
      "needs_background": "light"
     },
     "output_type": "display_data"
    }
   ],
   "source": [
    "plt.plot(np.sort(np.linalg.eigvals(A)))\n",
    "plt.plot(np.sort(QR(A)[0]))"
   ]
  },
  {
   "cell_type": "code",
   "execution_count": 165,
   "id": "b4a00a3d",
   "metadata": {},
   "outputs": [],
   "source": [
    "N = np.arange(10, 1010, 50)\n",
    "time = []\n",
    "err = []\n",
    "A = np.random.normal(loc = 0.0, scale=1.0, size=(100, 100))\n",
    "for k in N:\n",
    "   \n",
    "    t = %timeit -o -q -n 1 -r 1 QR(A, iters=k)\n",
    "\n",
    "    time.append(t.average)\n",
    "#     err.append(err.stdev)"
   ]
  },
  {
   "cell_type": "code",
   "execution_count": 166,
   "id": "cc5fd390",
   "metadata": {},
   "outputs": [
    {
     "data": {
      "text/plain": [
       "[0.04835676902439445,\n",
       " 0.04516761808190495,\n",
       " 0.08146314497571439,\n",
       " 0.11081624904181808,\n",
       " 0.18690113292541355,\n",
       " 0.23369984200689942,\n",
       " 0.2762152790091932,\n",
       " 0.34676913206931204,\n",
       " 0.42071806092280895,\n",
       " 0.47596456902101636,\n",
       " 0.5097805770346895,\n",
       " 0.5693851909600198,\n",
       " 0.6232830509543419,\n",
       " 0.6873031599679962,\n",
       " 0.7517120379488915,\n",
       " 0.8325609429739416,\n",
       " 0.9078345149755478,\n",
       " 0.9842835139716044,\n",
       " 1.0594398669200018,\n",
       " 1.1500954640796408]"
      ]
     },
     "execution_count": 166,
     "metadata": {},
     "output_type": "execute_result"
    }
   ],
   "source": [
    "time"
   ]
  },
  {
   "cell_type": "code",
   "execution_count": 167,
   "id": "f01c2ec6",
   "metadata": {},
   "outputs": [
    {
     "data": {
      "text/plain": [
       "[<matplotlib.lines.Line2D at 0x7f8f564b98d0>]"
      ]
     },
     "execution_count": 167,
     "metadata": {},
     "output_type": "execute_result"
    },
    {
     "data": {
      "image/png": "[encoded data removed]",
      "text/plain": [
       "<Figure size 432x288 with 1 Axes>"
      ]
     },
     "metadata": {
      "needs_background": "light"
     },
     "output_type": "display_data"
    }
   ],
   "source": [
    "plt.plot(N, time)"
   ]
  },
  {
   "cell_type": "code",
   "execution_count": null,
   "id": "e67be037",
   "metadata": {},
   "outputs": [],
   "source": []
  }
 ],
 "metadata": {
  "kernelspec": {
   "display_name": "Python 3 (ipykernel)",
   "language": "python",
   "name": "python3"
  },
  "language_info": {
   "codemirror_mode": {
    "name": "ipython",
    "version": 3
   },
   "file_extension": ".py",
   "mimetype": "text/x-python",
   "name": "python",
   "nbconvert_exporter": "python",
   "pygments_lexer": "ipython3",
   "version": "3.10.0"
  }
 },
 "nbformat": 4,
 "nbformat_minor": 5
}

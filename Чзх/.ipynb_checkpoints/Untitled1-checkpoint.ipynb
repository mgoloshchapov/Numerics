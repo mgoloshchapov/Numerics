{
 "cells": [
  {
   "cell_type": "code",
   "execution_count": 5,
   "id": "82f0a883",
   "metadata": {},
   "outputs": [],
   "source": [
    "import matplotlib.pyplot as plt\n",
    "import numpy as np\n",
    "from random import randrange"
   ]
  },
  {
   "cell_type": "markdown",
   "id": "74e5f99e",
   "metadata": {},
   "source": [
    "### Задача 1"
   ]
  },
  {
   "cell_type": "code",
   "execution_count": 19,
   "id": "98d4c5bf",
   "metadata": {},
   "outputs": [
    {
     "data": {
      "text/plain": [
       "array([[3, 4],\n",
       "       [2, 3]])"
      ]
     },
     "metadata": {},
     "output_type": "display_data"
    },
    {
     "data": {
      "text/plain": [
       "array([5.82842712, 0.17157288])"
      ]
     },
     "metadata": {},
     "output_type": "display_data"
    }
   ],
   "source": [
    "A = np.random.randint(low=0, high=6, size=(2, 2))\n",
    "display(A)\n",
    "display(np.linalg.eigvals(A))"
   ]
  },
  {
   "cell_type": "code",
   "execution_count": 21,
   "id": "bc2b3746",
   "metadata": {},
   "outputs": [],
   "source": [
    "def stepnoy(A, iters=10):\n",
    "    r0 = np.array([[1.0], [1.0]])\n",
    "    r = r0\n",
    "    vals = []\n",
    "    for i in range(iters):\n",
    "        r = A@r\n",
    "        r /= np.linalg.norm(r, ord=2)\n",
    "        vals.append((r.T@A@r) / (r.T@r))\n",
    "    return vals"
   ]
  },
  {
   "cell_type": "code",
   "execution_count": null,
   "id": "04ae6c20",
   "metadata": {},
   "outputs": [],
   "source": []
  }
 ],
 "metadata": {
  "kernelspec": {
   "display_name": "Python 3 (ipykernel)",
   "language": "python",
   "name": "python3"
  },
  "language_info": {
   "codemirror_mode": {
    "name": "ipython",
    "version": 3
   },
   "file_extension": ".py",
   "mimetype": "text/x-python",
   "name": "python",
   "nbconvert_exporter": "python",
   "pygments_lexer": "ipython3",
   "version": "3.10.0"
  }
 },
 "nbformat": 4,
 "nbformat_minor": 5
}

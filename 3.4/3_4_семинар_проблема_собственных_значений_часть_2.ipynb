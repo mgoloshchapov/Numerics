{
 "cells": [
  {
   "cell_type": "markdown",
   "metadata": {
    "id": "lngoSM90u_Ld"
   },
   "source": [
    "# Проблема собственных значений и QR алгоритм"
   ]
  },
  {
   "cell_type": "markdown",
   "metadata": {
    "id": "7qM_5qu-wOt8"
   },
   "source": [
    "## QR алгоритм.\n",
    "\n"
   ]
  },
  {
   "cell_type": "markdown",
   "metadata": {
    "id": "pDbieHicwbkk"
   },
   "source": [
    "- QR алгоритм был предложен в 1961 г. независимо В. Н. Кублановской и Ј. Francis'ом. Статью про историю этого алгоритма и его авторов можно прочитать тут. https://www.atm.org.uk/write/MediaUploads/Resources/Mid_Plenary_FrancisGolub.pdf  \n",
    "\n",
    "- Не путайте QR алгоритм и QR разложение!\n",
    "\n",
    "- $\\mathrm{QR}$ разложение - это представление матрицы в виде произведения двух матриц, а QR алгоритм использует QR разложение для вычисления разложения Шypa."
   ]
  },
  {
   "cell_type": "markdown",
   "metadata": {
    "id": "H-mid9_0xETe"
   },
   "source": [
    "Рассмотрим выражение\n",
    "$$\n",
    "A=Q T Q^*\n",
    "$$\n",
    "и перепишем его в виде\n",
    "$$\n",
    "Q T=A Q\n",
    "$$\n",
    "Слева замечаем QR разложение матрицы $A Q$. "
   ]
  },
  {
   "cell_type": "markdown",
   "metadata": {
    "id": "sWsx_kf0xFfc"
   },
   "source": [
    "Запишем следующий итерационный процесс\n",
    "$$\n",
    "Q_{k+1} R_{k+1}=A Q_k, \\quad Q_{k+1}^* A=R_{k+1} Q_k^*\n",
    "$$\n",
    "Введём новую матрицу\n",
    "$$\n",
    "A_k=Q_k^* A Q_k=Q_k^* Q_{k+1} R_{k+1}=\\widehat{Q}_k R_{k+1}\n",
    "$$\n",
    "тогда аппроксимация для $A_{k+1}$ имеет вид\n",
    "$$\n",
    "A_{k+1}=Q_{k+1}^* A Q_{k+1}=\\left(Q_{k+1}^* A=R_{k+1} Q_k^*\\right)=R_{k+1} \\widehat{Q}_k .\n",
    "$$\n",
    "\n",
    "\n",
    "Итак, мы получили стандартную форму записи QR алгоритма.\n",
    "Финальные формулы обычно записывают в QRRQ-форме:\n",
    "1. Инициализируем $A_0=A$.\n",
    "2. Вычислим QR разложение матрицы $A_k: A_k=Q_k R_k$.\n",
    "3. Обновим аппроксимацию $A_{k+1}=R_k Q_k$.\n",
    "Продолжаем итерации пока $A_k$ не станет достаточно треугольной (например, норма подматрицы под главной диагональю не станет достаточно мала). "
   ]
  },
  {
   "cell_type": "markdown",
   "metadata": {
    "id": "2P4xkA9uxfrU"
   },
   "source": [
    "Утверждение\n",
    "Матрицы $A_k$ унитарно подобны матрице $A$\n",
    "$$\n",
    "A_k=Q_{k-1}^* A_{k-1} Q_{k-1}=\\left(Q_{k-1} \\ldots Q_1\\right)^* A\\left(Q_{k-1} \\ldots Q_1\\right)\n",
    "$$\n",
    "а произведение унитарных матриц - унитарная матрица.\n",
    "Сложность одной итерации $\\mathcal{O}\\left(n^3\\right)$, если используется $\\mathrm{QR}$ разложение для общего случая.\n",
    "Мы ожидаем, что $A_k$ будет очень близка к треугольной матрице для достаточно большого $k$. "
   ]
  },
  {
   "cell_type": "code",
   "execution_count": null,
   "metadata": {
    "colab": {
     "base_uri": "https://localhost:8080/"
    },
    "id": "tI23oY1hxgd0",
    "outputId": "522eb395-f6a5-41ec-dbe8-40f7bc7cc182"
   },
   "outputs": [
    {
     "name": "stdout",
     "output_type": "stream",
     "text": [
      "Leading 3x3 block of a:\n",
      "[[2.41052440e+000 6.60130676e-018 7.46669222e-018]\n",
      " [2.42500623e-168 3.49984625e-001 4.14993685e-017]\n",
      " [0.00000000e+000 6.56745067e-273 1.53236733e-002]]\n"
     ]
    }
   ],
   "source": [
    "import numpy as np\n",
    "n = 4\n",
    "a = [[1.0/(i + j + 0.5) for i in range(n)] for j in range(n)]\n",
    "niters = 200\n",
    "for k in range(niters):\n",
    "    q, rmat = np.linalg.qr(a)\n",
    "    a = rmat.dot(q)\n",
    "print('Leading 3x3 block of a:')\n",
    "print(a[:3, :3])"
   ]
  },
  {
   "cell_type": "markdown",
   "metadata": {
    "id": "ZPBE6mXNAJGh"
   },
   "source": [
    "## QR-алгоритм. Реализация."
   ]
  },
  {
   "cell_type": "code",
   "execution_count": null,
   "metadata": {
    "id": "OzxXVezzAQEP"
   },
   "outputs": [],
   "source": [
    "import numpy as np\n",
    "import matplotlib.pyplot as plt\n",
    "%matplotlib inline\n",
    "\n",
    "def qr_algorithm(A, num_iter, eps):\n",
    "    T = A.copy()\n",
    "    U = np.eye(A.shape[0])\n",
    "    conv = [(T, U)]\n",
    "    for i in range(num_iter):\n",
    "        Q, R = np.linalg.qr(T)\n",
    "        T = R @ Q\n",
    "        U = U @ Q\n",
    "        conv.append((T, U))\n",
    "        if np.sum(np.abs(np.tril(T, k=-1))) < eps:\n",
    "            break\n",
    "    return T, U, conv[1:]"
   ]
  },
  {
   "cell_type": "code",
   "execution_count": null,
   "metadata": {
    "colab": {
     "base_uri": "https://localhost:8080/"
    },
    "id": "rUo6BhALAQ6H",
    "outputId": "ccaa05c6-7e67-4f3d-8412-1863248cdff3"
   },
   "outputs": [
    {
     "name": "stdout",
     "output_type": "stream",
     "text": [
      "[-4.48582349  5.57389863  3.85284524  2.8288769   1.03918933 -0.6891476\n",
      "  0.28312425]\n"
     ]
    }
   ],
   "source": [
    "n = 7\n",
    "A = np.random.randn(n, n)\n",
    "# A = A.T @ A\n",
    "A = A + A.T\n",
    "true_eigvals, true_eigvec = np.linalg.eig(A)\n",
    "print(true_eigvals)"
   ]
  },
  {
   "cell_type": "code",
   "execution_count": null,
   "metadata": {
    "colab": {
     "base_uri": "https://localhost:8080/"
    },
    "id": "zxjnMVnOAXUf",
    "outputId": "aa593171-5568-417a-f510-1a07021b91cd"
   },
   "outputs": [
    {
     "name": "stdout",
     "output_type": "stream",
     "text": [
      "4.382449849597428e-14\n"
     ]
    }
   ],
   "source": [
    "T, U, conv = qr_algorithm(A, 2000, 1e-6)\n",
    "print(np.linalg.norm(A - U @ T @ U.T))"
   ]
  },
  {
   "cell_type": "code",
   "execution_count": null,
   "metadata": {
    "colab": {
     "base_uri": "https://localhost:8080/",
     "height": 286
    },
    "id": "Pwc1i0z4Aasg",
    "outputId": "79ed2866-2ce5-4896-c27b-20aa50ef7d0e"
   },
   "outputs": [
    {
     "data": {
      "text/plain": [
       "<matplotlib.lines.Line2D at 0x7f41eaff7d10>"
      ]
     },
     "execution_count": 6,
     "metadata": {},
     "output_type": "execute_result"
    },
    {
     "data": {
      "image/png": "[encoded data removed]",
      "text/plain": [
       "<Figure size 432x288 with 1 Axes>"
      ]
     },
     "metadata": {
      "needs_background": "light"
     },
     "output_type": "display_data"
    }
   ],
   "source": [
    "plt.spy(T, markersize=10, precision=1e-6)\n"
   ]
  },
  {
   "cell_type": "code",
   "execution_count": null,
   "metadata": {
    "colab": {
     "base_uri": "https://localhost:8080/",
     "height": 471
    },
    "id": "L4eR3STJAggA",
    "outputId": "fcca9f86-0927-4745-ba32-0ad39f3a8da0"
   },
   "outputs": [
    {
     "data": {
      "image/png": "[encoded data removed]",
      "text/plain": [
       "<Figure size 720x504 with 1 Axes>"
      ]
     },
     "metadata": {
      "needs_background": "light"
     },
     "output_type": "display_data"
    }
   ],
   "source": [
    "plt.figure(figsize=(10, 7))\n",
    "conv_qr = np.array([np.sum(np.abs(np.tril(T, k=-1))) for T, U in conv])\n",
    "plt.plot(conv_qr)\n",
    "plt.yscale(\"log\")\n",
    "plt.xticks(fontsize=20)\n",
    "plt.yticks(fontsize=20)\n",
    "plt.xlabel(\"\\# iterations\", fontsize=20)\n",
    "plt.ylabel(\"Sum of lower triangular part in modulos\", fontsize=20)\n",
    "plt.grid(True)"
   ]
  },
  {
   "cell_type": "code",
   "execution_count": null,
   "metadata": {
    "colab": {
     "base_uri": "https://localhost:8080/"
    },
    "id": "ss6h4Wo0Ak1Q",
    "outputId": "0aa8233a-4b17-4562-b211-c1f5c481197e"
   },
   "outputs": [
    {
     "data": {
      "text/plain": [
       "(array([[-0.201 , -0.6686, -0.6272,  0.2665,  0.2186, -0.019 ,  0.0077],\n",
       "        [ 0.3512,  0.0272, -0.152 , -0.1212,  0.0515, -0.4356,  0.8036],\n",
       "        [ 0.2525, -0.2302, -0.2834, -0.6953, -0.4019,  0.3969, -0.0202],\n",
       "        [ 0.6976, -0.3068,  0.2912,  0.0277,  0.5246,  0.1566, -0.184 ],\n",
       "        [-0.0653,  0.555 , -0.4632, -0.2211,  0.6003,  0.2527, -0.0127],\n",
       "        [-0.4624, -0.2859,  0.3395, -0.5989,  0.3793, -0.2943,  0.0018],\n",
       "        [ 0.2603,  0.1243, -0.2977, -0.1498, -0.0925, -0.691 , -0.5655]]),\n",
       " array([[-0.6686, -0.201 , -0.6272, -0.2665, -0.2186,  0.019 , -0.0077],\n",
       "        [ 0.0272,  0.3512, -0.152 ,  0.1212, -0.0515,  0.4356, -0.8036],\n",
       "        [-0.2302,  0.2525, -0.2834,  0.6953,  0.4019, -0.3969,  0.0202],\n",
       "        [-0.3068,  0.6976,  0.2912, -0.0277, -0.5246, -0.1566,  0.184 ],\n",
       "        [ 0.555 , -0.0653, -0.4632,  0.2211, -0.6003, -0.2527,  0.0127],\n",
       "        [-0.2859, -0.4624,  0.3395,  0.5989, -0.3793,  0.2943, -0.0018],\n",
       "        [ 0.1243,  0.2603, -0.2977,  0.1498,  0.0925,  0.691 ,  0.5655]]))"
      ]
     },
     "execution_count": 8,
     "metadata": {},
     "output_type": "execute_result"
    }
   ],
   "source": [
    "U.round(4), true_eigvec.round(4)\n"
   ]
  },
  {
   "cell_type": "markdown",
   "metadata": {
    "id": "o8emG_ZR3Hhk"
   },
   "source": [
    "## Ускорение QR алгоритма"
   ]
  },
  {
   "cell_type": "markdown",
   "metadata": {
    "id": "VfasVxGJ3LzK"
   },
   "source": [
    "Матрица $A$ имеет верхне-гессенбергову форму, если\n",
    "$a_{i j}=0$, при $i \\geq j+2$.\n",
    "$$\n",
    "H=\\left[\\begin{array}{lllll}\n",
    "* & * & * & * & * \\\\\n",
    "* & * & * & * & * \\\\\n",
    "0 & * & * & * & * \\\\\n",
    "0 & 0 & * & * & * \\\\\n",
    "0 & 0 & 0 & * & *\n",
    "\\end{array}\\right]\n",
    "$$ "
   ]
  },
  {
   "cell_type": "markdown",
   "metadata": {
    "id": "dDS1Q5883nXM"
   },
   "source": [
    "С помощью отражений Хаусхолдера можно привести любую матрицу к верхне-гессенберговой форме:\n",
    "$$\n",
    "U^* A U=H .\n",
    "$$\n",
    "- Сложность такого приведения $\\mathcal{O}\\left(n^3\\right)$ операций\n",
    "- Если матрица приведена к верхне-гессенберговой форме, то одна итерация QR алгоритма имеет сложность $\\mathcal{O}\\left(n^2\\right)$ операций (например, используя вращения Гивенса) (почему?)\n",
    "- Также верхне-гессенбергова форма матрицы сохраняется после выполнения одной итерации QR алгоритма (проверим ниже). "
   ]
  },
  {
   "cell_type": "markdown",
   "metadata": {
    "id": "CdSBE8JE46ET"
   },
   "source": [
    "Матрица Хаусхолдера - это матрица вида\n",
    "$$\n",
    "H \\equiv H(v)=I-2 v v^*,\n",
    "$$\n",
    "где $v-n \\times 1$ вектор и $v^* v=1$. Покажите, что $H$ унитарна и Эрмитова. Это также матрица отражения относительно плоскости с нормалью $v$ :\n",
    "$$\n",
    "H x=x-2\\left(v^* x\\right) v\n",
    "$$ "
   ]
  },
  {
   "cell_type": "markdown",
   "metadata": {
    "id": "EE6LY8te4-DD"
   },
   "source": [
    "![image.png](data:image/png;base64,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) "
   ]
  },
  {
   "cell_type": "markdown",
   "metadata": {
    "id": "slJYrdnO5Azr"
   },
   "source": [
    "**Свойство матрицы Хаусхолдера.**\n",
    "\n",
    "\n",
    "Преобразование Хаусхолдера может занулить все элементы в столбце матрицы, кроме первого:\n",
    "$$\n",
    "H\\left[\\begin{array}{c}\n",
    "\\times \\\\\n",
    "\\times \\\\\n",
    "\\times \\\\\n",
    "\\times\n",
    "\\end{array}\\right]=\\left[\\begin{array}{l}\n",
    "\\times \\\\\n",
    "0 \\\\\n",
    "0 \\\\\n",
    "0\n",
    "\\end{array}\\right]\n",
    "$$  "
   ]
  },
  {
   "cell_type": "markdown",
   "metadata": {
    "id": "FodQaIiF5Opp"
   },
   "source": [
    "Доказательство \n",
    "\n",
    "Пусть $e_1=(1,0, \\ldots, 0)^T$, тогда нам надо найти такой вектор $v$ что\n",
    "$$\n",
    "H x=x-2\\left(v^* x\\right) v=\\alpha e_1,\n",
    "$$\n",
    "где $\\alpha$ неизвестная константа. В силу унитарной инвариантности $\\|\\cdot\\|_2$ мы получим\n",
    "$$\n",
    "\\|x\\|_2=\\|H x\\|_2=\\left\\|\\alpha e_1\\right\\|_2=|\\alpha| .\n",
    "$$\n",
    "и\n",
    "$$\n",
    "\\alpha=\\pm\\|x\\|_2\n",
    "$$\n",
    "Также, можем выращить $v$ из равенства $x-2\\left(v^* x\\right) v=\\alpha e_1$ :\n",
    "$$\n",
    "v=\\frac{x-\\alpha e_1}{2 v^* x}\n",
    "$$\n",
    "Умножив последнее выражение на $x^*$ получим\n",
    "$$\n",
    "\\begin{gathered}\n",
    "x^* x-2\\left(v^* x\\right) x^* v=\\alpha x_1 ; \\\\\n",
    "\\|x\\|_2^2-2\\left(v^* x\\right)^2=\\alpha x_1 \\\\\n",
    "\\left(v^* x\\right)^2=\\frac{\\|x\\|_2^2-\\alpha x_1}{2} .\n",
    "\\end{gathered}\n",
    "$$\n",
    "Итак, $v$ существует и равна\n",
    "$$\n",
    "v=\\frac{x \\pm\\|x\\|_2 e_1}{2 v^* x}=\\frac{x \\pm\\|x\\|_2 e_1}{\\pm \\sqrt{2\\left(\\|x\\|_2^2 \\mp\\|x\\|_2 x_1\\right)}}\n",
    "$$ "
   ]
  },
  {
   "cell_type": "markdown",
   "metadata": {
    "id": "g12TWSRt5VpC"
   },
   "source": [
    "Случай симметричной (эрмитовой) матрицы\n",
    "\n",
    "\n",
    "- Если матрица $A$ симметричная (эрмитова), то $A=A^*$, тогда $H=H^*$ и верхне-гессенбергова форма оказывается трёхдиагональной матрицей\n",
    "- Далее мы будем говорить только о симметричном трёхдиагональном виде верхне-гессенберговой формы\n",
    "- Любая эрмитова матрица может быть приведена к трёхдиагональной форме с помощью отражений Хаусхолдера\n",
    "- Основная идея: трёхдиагональная форма сохраняется при выполнении QR алгоритма, и сложность одной итерации может быть сокращена до $\\mathcal{O}(n)$ ! "
   ]
  },
  {
   "cell_type": "markdown",
   "metadata": {
    "id": "pN0fyXexg74x"
   },
   "source": [
    "## Одна итерация QR алгоритма сохраняет верхне-гессенбергову форму матрицы."
   ]
  },
  {
   "cell_type": "markdown",
   "metadata": {
    "id": "3k0foPm4g9-W"
   },
   "source": [
    "- Одна итерация QR алгоритма имеет следующий вид:\n",
    "$$\n",
    "A_{k}=Q_{k} R_{k}, \\quad A_{k+1}=R_{k} Q_{k}\n",
    "$$\n",
    "- Если $A_0 = A$ симметричная трёхдиагональная матрица , то эта форма сохраняется.\n",
    "- Давайте это проверим!"
   ]
  },
  {
   "cell_type": "code",
   "execution_count": null,
   "metadata": {
    "colab": {
     "base_uri": "https://localhost:8080/",
     "height": 614
    },
    "id": "PusHa9AghGOR",
    "outputId": "fdbeaec2-010c-42e3-a13d-7386b2ffaec1"
   },
   "outputs": [
    {
     "data": {
      "text/plain": [
       "array([-2.69714057,  0.58790971,  0.        ,  0.        ,  0.        ,\n",
       "        0.        ,  0.        ,  0.        ,  0.        ,  0.        ,\n",
       "        0.        ,  0.        ,  0.        ,  0.        ,  0.        ,\n",
       "        0.        ,  0.        ,  0.        ,  0.        ,  0.        ])"
      ]
     },
     "execution_count": 19,
     "metadata": {},
     "output_type": "execute_result"
    },
    {
     "data": {
      "image/png": "[encoded data removed]",
      "text/plain": [
       "<Figure size 432x288 with 1 Axes>"
      ]
     },
     "metadata": {},
     "output_type": "display_data"
    },
    {
     "data": {
      "image/png": "[encoded data removed]",
      "text/plain": [
       "<Figure size 432x288 with 1 Axes>"
      ]
     },
     "metadata": {},
     "output_type": "display_data"
    }
   ],
   "source": [
    "%matplotlib inline\n",
    "import numpy as np\n",
    "import matplotlib.pyplot as plt\n",
    "import seaborn as sns\n",
    "sns.set_style('white')\n",
    "\n",
    "#Generate a random tridiagonal matrix\n",
    "n = 20\n",
    "d = np.random.randn(n)\n",
    "sub_diag = np.random.randn(n-1)\n",
    "\n",
    "mat = np.diag(d) + np.diag(sub_diag, -1) + np.diag(sub_diag, 1)\n",
    "plt.spy(mat)\n",
    "plt.title(\"Original matrix\", fontsize=16)\n",
    "q, r = np.linalg.qr(mat)\n",
    "plt.figure()\n",
    "b = r.dot(q)\n",
    "b[abs(b) <= 1e-12] = 0\n",
    "plt.spy(b)\n",
    "plt.title(\"After one iteration of QR algorithm\", fontsize=16)\n",
    "#plt.figure()\n",
    "#plt.imshow(np.abs(r.dot(q)))\n",
    "b[0, :]"
   ]
  },
  {
   "cell_type": "markdown",
   "metadata": {
    "id": "BSCCtg9yA_Y3"
   },
   "source": [
    "Трёхдиагональная форма\n",
    "\n",
    "\n",
    "- Работая с трёхдиагональной формой, вам не нужно вычислять матрицу $Q$ : нужно лишь вычислить трёхдиагональную часть, которая получается после итерации\n",
    "$$\n",
    "A_k=Q_k R_k, \\quad A_{k+1}=R_k Q_k\n",
    "$$\n",
    "в случае $A_k=A_k^*$\n",
    "- Такая матрица определяется $\\mathcal{O}(n)$ параметрами\n",
    "- Вычисление QR разложения более сложное, но возможно вычислить $A_{k+1}$ напрямую без вычисления $Q_k$.\n",
    "- Это называется неявный QR-шаr.\n",
    "\n",
    "\n",
    "Теорема о неявном QR алгоритме\n",
    "\n",
    "- Bce реализации неявного QR алгоритма основаны на следующей теореме\n",
    "\n",
    "Теорема. \n",
    "\n",
    "Пусть\n",
    "$$\n",
    "Q^* A Q=H\n",
    "$$\n",
    "верхне-гессенбергова форма матрицы. Тогда первый столбец матрицы $Q$ определяет все остальные её столбцы. Он может быть найден из следующего уравнения\n",
    "$$\n",
    "A Q=Q H\n",
    "$$  "
   ]
  },
  {
   "cell_type": "markdown",
   "metadata": {
    "id": "XYe2BAe4BPAQ"
   },
   "source": [
    "## QR со сдвигами, степенной метод, итерации Рэлея и обратные итерации, SVD."
   ]
  },
  {
   "cell_type": "markdown",
   "metadata": {
    "id": "xDL-WY3xBTVe"
   },
   "source": [
    "Сходимость QR алгоритма\n",
    "- Сходимость QR алгоритма - непростой вопрос (см. Е.Е. Тыртышников \"Краткий курс численного анализа\")!\n",
    "Итог. Если у нас есть разложение вида\n",
    "$$\n",
    "A=X \\Lambda X^{-1}, \\quad A=\\left[\\begin{array}{ll}\n",
    "A_{11} & A_{12} \\\\\n",
    "A_{21} & A_{22}\n",
    "\\end{array}\\right]\n",
    "$$\n",
    "и\n",
    "$$\n",
    "\\Lambda=\\left[\\begin{array}{cc}\n",
    "\\Lambda_1 & 0 \\\\\n",
    "0 & \\Lambda_2\n",
    "\\end{array}\\right], \\quad \\lambda\\left(\\Lambda_1\\right)=\\left\\{\\lambda_1, \\ldots, \\lambda_m\\right\\}, \\lambda\\left(\\Lambda_2\\right)=\\left\\{\\lambda_{m+1}, \\ldots, \\lambda_r\\right\\}\n",
    "$$\n",
    "а также есть зазор между собственными значениями в матрице $\\Lambda_1$ и $\\Lambda_2\\left(\\left|\\lambda_1\\right| \\geq \\cdots \\geq\\left|\\lambda_m\\right|>\\left|\\lambda_{m+1}\\right| \\geq \\cdots \\geq\\left|\\lambda_r\\right|>0\\right)$, тогда блок $A_{21}^{(k)}$ матрицы $A_k$ сходится к нулевому в процессе работы QR алгоритма со скоростью\n",
    "$$\n",
    "\\left\\|A_{21}^{(k)}\\right\\| \\leq C q^k, \\quad q=\\left|\\frac{\\lambda_{m+1}}{\\lambda_m}\\right|,\n",
    "$$\n",
    "где $m$ размер матрицы $\\Lambda_1$\n",
    "Таким образом, нам нужно увеличить зазор между $\\Lambda_1$ и $\\Lambda_2$. Это можно сделать с помощью QR алгоритма со сдвигами."
   ]
  },
  {
   "cell_type": "markdown",
   "metadata": {
    "id": "HL4iOfsgBU33"
   },
   "source": [
    "**QR алгоритм со сдвигами**\n",
    "\n",
    "$$\n",
    "A_k-s_k I=Q_k R_k, \\quad A_{k+1}=R_k Q_k+s_k I\n",
    "$$\n",
    "- Сходимость такого алгоритма линейная с фактором\n",
    "$$\n",
    "\\left|\\frac{\\lambda_{m+1}-s_k}{\\lambda_m-s_k}\\right|\n",
    "$$\n",
    "\n",
    "где $\\lambda_m-m$-ое большее по модулю собственное значение. Если сдвиг близок к собственному вектору, сходимость более быстрая.\n",
    "- Существуют различные стратегии выбора сдвигов.\n",
    "- Использование сдвигов - это общий подход к ускорению сходимости итерационных методов вычисления собственных значений. Далее покажем, как выбирать сдвиги для более простых алгоритмов"
   ]
  },
  {
   "cell_type": "markdown",
   "metadata": {
    "id": "BmIdzrzTBd0Q"
   },
   "source": [
    "**Сдвиги и степенной метод**\n",
    "\n",
    "\n",
    "Напоминаем, что такое степенной метод для вычисления собственых значений.\n",
    "$$\n",
    "x_{k+1}:=A x_k, \\quad x_{k+1}:=\\frac{x_{k+1}}{\\left\\|x_{k+1}\\right\\|} .\n",
    "$$\n",
    "- Он сходится к собственному вектору, соответствующему максимальному по модулю собственному значению.\n",
    "- Сходимость может быть очень медленной.\n",
    "- Используем сдвиги: если мы преобразуем матрицу\n",
    "$$\n",
    "A:=A-\\lambda_k I,\n",
    "$$\n",
    "то соответствующее собственное значение уменьшится (а нам нужно максимальное по модулю). Это не то, что нам было нужно!"
   ]
  },
  {
   "cell_type": "markdown",
   "metadata": {
    "id": "06w8M93YBnFP"
   },
   "source": [
    "**Обратная итерация и итерация Релея**\n",
    "\n",
    "- Для того чтобы из малого собственного значения сделать большое, нам нужно обратить матрицу, и это приводит нас к методу обратной итерации\n",
    "$$\n",
    "x_{k+1}=(A-\\lambda I)^{-1} x_k,\n",
    "$$\n",
    "где $\\lambda$ - сдвиг, который близок к собственному значению, которое мы хотим найти. Аналогично степенному методу сходимость линейная.\n",
    "- Для ускорения сходимости можно использовать итерацию Релея, которая задаётся с помощью адаптивного выбора параметра сдвига:\n",
    "$$\n",
    "\\begin{aligned}\n",
    "x_{k+1} &=\\left(A-\\lambda_k I\\right)^{-1} x_k, \\\\\n",
    "\\lambda_k &=\\frac{\\left(A x_k, x_k\\right)}{\\left(x_k, x_k\\right)}\n",
    "\\end{aligned}\n",
    "$$\n",
    "В симметричном случае $A=A^*$ сходимость локально кубическая, и локально квадратичная иначе."
   ]
  },
  {
   "cell_type": "markdown",
   "metadata": {
    "id": "-yLnVHs1CKWo"
   },
   "source": [
    "**Сингулярные значения и собственные значения**\n",
    "\n",
    "- Сингулярное разложение имеет вид\n",
    "$$\n",
    "A=U \\Sigma V^*\n",
    "$$\n",
    "и существует для любой матрицы.\n",
    "- Его также можно считать способом приведения данной матрицы к диагональному виду с помощью двух унитарных преобразований:\n",
    "$$\n",
    "\\Sigma=U^* A V .\n",
    "$$\n",
    "- С помощью двусторонних преобразований Хаусхолдера мы можем привести любую матрицу к бидиагональной форме $B$."
   ]
  },
  {
   "cell_type": "markdown",
   "metadata": {
    "id": "xEPrrivjCT0P"
   },
   "source": [
    "Неявный QR алгоритм (со сдвигами) вычисляет собственные значения. Но мы не можем применить его напрямую к бидиагональной матрице, поскольку она может быть недиагонализуема в общем случае.\n",
    "Однако задачу вычисления сингулярного разложения можно свести к симметричной задаче на собственные значения двумя способами:\n",
    "1. Работать с трёхдиагональной матрицей\n",
    "$$\n",
    "T=B^* B\n",
    "$$\n",
    "2. Работать с расширенной матрицей\n",
    "$$\n",
    "T=\\left[\\begin{array}{cc}\n",
    "0 & B \\\\\n",
    "B^* & 0\n",
    "\\end{array}\\right]\n",
    "$$\n",
    "Случай 1 практически реализуем, если не формировать матрицу $T$ явно!\n",
    "Таким образом, задача вычисления сингулярных чисел может быть сведена к задаче вычисления собственных чисел симметричной трёхдиагональной матрицы."
   ]
  },
  {
   "cell_type": "markdown",
   "metadata": {
    "id": "3Jp9r3vwDbLQ"
   },
   "source": [
    "# Алгоритмы для симметричной задачи на собственные значения\n"
   ]
  },
  {
   "cell_type": "markdown",
   "metadata": {
    "id": "t0wawH_uDijv"
   },
   "source": [
    "Рассмотрены выше были:\n",
    "\n",
    "-QR алгоритм: \"золотой стандарт\" для вычисления собственных значений\n",
    "\n",
    "-Метод итерации Релея\n",
    "\n",
    "$$\n",
    "\\\n",
    "$$\n",
    "Далее:\n",
    "\n",
    "\n",
    "-Алгоритм на основе стратегии \"разделяй и властвуй\"\n",
    "\n",
    "-Метод бисекции\n",
    "\n",
    "-Метод Якоби"
   ]
  },
  {
   "cell_type": "markdown",
   "metadata": {
    "id": "9c0rrTBGD1Fe"
   },
   "source": [
    "## Метод разделяй и властвуй\n"
   ]
  },
  {
   "cell_type": "markdown",
   "metadata": {
    "id": "WArXTE_pD4Nd"
   },
   "source": [
    "Пусть у нас есть трёхдиагональная матрица и мы разделили её на блоки:\n",
    "$$\n",
    "T=\\left[\\begin{array}{cc}\n",
    "T_1^{\\prime} & B \\\\\n",
    "B^{\\top} & T_2^{\\prime}\n",
    "\\end{array}\\right]\n",
    "$$\n",
    "Можем записать матрицу $T$ в виде\n",
    "$$\n",
    "T=\\left[\\begin{array}{cc}\n",
    "T_1 & 0 \\\\\n",
    "0 & T_2\n",
    "\\end{array}\\right]+b_m v v^*\n",
    "$$\n",
    "где $v v^*$ - матрица ранга $1, v=(0, \\ldots, 0,1,1,0, \\ldots, 0)^T$.\n",
    "Пусть мы уже разложили матрицы $T_1$ и $T_2$ :\n",
    "$$\n",
    "T_1=Q_1 \\Lambda_1 Q_1^*, \\quad T_2=Q_2 \\Lambda_2 Q_2^*\n",
    "$$\n",
    "Тогда (проверьте!),\n",
    "$$\n",
    "\\left[\\begin{array}{cc}\n",
    "Q_1^* & 0 \\\\\n",
    "0 & Q_2^*\n",
    "\\end{array}\\right] T\\left[\\begin{array}{cc}\n",
    "Q_1 & 0 \\\\\n",
    "0 & Q_2\n",
    "\\end{array}\\right]=D+\\rho u u^*, \\quad D=\\left[\\begin{array}{cc}\n",
    "\\Lambda_1 & 0 \\\\\n",
    "0 & \\Lambda_2\n",
    "\\end{array}\\right]\n",
    "$$\n",
    "то есть мы свели задачу к задаче вычисления собственных значений у матрицы вида\n",
    "диагональная матрица плюс матрица малого ранга. Решение задачи изложено в теории в  семинарских задачах   10 - 13."
   ]
  },
  {
   "cell_type": "markdown",
   "metadata": {
    "id": "YWv774PaE_5v"
   },
   "source": [
    "## Метод бисекции"
   ]
  },
  {
   "cell_type": "markdown",
   "metadata": {
    "id": "-gMej6uEFHBX"
   },
   "source": [
    "- Абсолютно другой подход основан на идеи бисекции\n",
    "- Дана матрица $A$, инерция которой определяется как триплет $(\\nu, \\zeta, \\pi)$, где $\\nu$ - число отрицательных, $\\zeta$ - число нулевых, и $\\pi$ - число положительных собственных значений.\n",
    "- Если $X$ невырождена, тогда\n",
    "$\\operatorname{Inertia}(A)=\\operatorname{Inertia}\\left(X^* A X\\right)$\n",
    "\n",
    "**Бисекция с помощью метода Гаусса**\n",
    "\n",
    "\n",
    "- Для данного z мы можем запустить метод Гаусса и получить разложение:\n",
    "$$\n",
    "A-z I=L D L^*\n",
    "$$\n",
    "а инерция для диагональной матрицы вычисляется просто.\n",
    "- С помощью инерции мы можем легко посчитать число собственных значений в заданном интервале.\n",
    "- Пример: если $\\operatorname{Inertia}(A)=(5,0,2)$ и после сдвига $\\operatorname{Inertia}(A-z I)=(4,0,3), z \\in[a, b]$ тогда это значит, что $\\lambda(A) \\in[a, z]$."
   ]
  },
  {
   "cell_type": "markdown",
   "metadata": {
    "id": "UUBBbwFYhcGS"
   },
   "source": [
    "## Метод Якоби\n"
   ]
  },
  {
   "cell_type": "markdown",
   "metadata": {
    "id": "Mqtv4sxBhfT7"
   },
   "source": [
    "- Вспомним что такое вращения Гивенса (Якоби):\n",
    "на плоскости им соответствуют ортогональные матрицы вида\n",
    "$$\n",
    "\\left(\\begin{array}{cc}\n",
    "\\cos \\phi & \\sin \\phi \\\\\n",
    "-\\sin \\phi & \\cos \\phi\n",
    "\\end{array}\\right)\n",
    "$$\n",
    "а в $n$-мерном пространстве мы выбираем два индекса і и ји вращаем относительно соответствующих элементов $n$-мерного вектора.\n",
    "\n",
    "- Идея метода Якоби состоит в минимизации суммы квадратов недиагональных элементов:\n",
    "$$\n",
    "\\Gamma(A)=\\operatorname{off}\\left(U^{*} A U\\right), \\quad \\text { off }^{2}(X)=\\sum_{i \\neq j}\\left|X_{i j}\\right|^{2}=\\|X\\|_{F}^{2}-\\sum_{i=1}^{n} x_{i i}^{2}\n",
    "$$\n",
    "с помощью последовательных вращений Якоби для их зануления.\n",
    "- Когда элементы выбраны, их легко занулить.\n",
    "- Главный вопрос: в каком порядке нужно проводить зануление?\n",
    "- Если мы всегда зануляем максимальный недиагональный элемент, метод имеет глобально линейную сходимость и локально квадратичную.\n",
    "- На практике используется циклический порядок $\\text { (то есть, }(1,2),(1,3), \\ldots,(2,3), \\ldots) $\n",
    "\n",
    "Метод Якоби был первым численным методом для вычисления собственных значений, предложен в 1846. Преимущество:\n",
    "\n",
    "Большая константа в оценке сложности\n",
    "\n",
    "Очень точный (высокая относительная точность для малых собственных значений по сравнению с другими методами)\n",
    "\n",
    "Хорошая возможность параллелизации "
   ]
  },
  {
   "cell_type": "markdown",
   "metadata": {
    "id": "55I1JZUYu-YN"
   },
   "source": [
    "# Выводы по способам вычисления разложений\n"
   ]
  },
  {
   "cell_type": "markdown",
   "metadata": {
    "id": "G47bp89byLkE"
   },
   "source": [
    "- LU и QR разложения можно вычислить с помощью прямых методов за конечное число операций.\n",
    "- SVD и разложение Шура не могут быть вычислены с помощью прямых методов (почему?). Они могут быть получены с помощью итерационных методов\n",
    "- Однако итерационные методы также имеют сложность $\\mathcal{O}\\left(n^3\\right)$ операций благодаря быстрой сходимости. "
   ]
  }
 ],
 "metadata": {
  "colab": {
   "collapsed_sections": [
    "30iVaCVdfwvD",
    "UUBBbwFYhcGS",
    "55I1JZUYu-YN"
   ],
   "provenance": []
  },
  "kernelspec": {
   "display_name": "Python 3 (ipykernel)",
   "language": "python",
   "name": "python3"
  },
  "language_info": {
   "codemirror_mode": {
    "name": "ipython",
    "version": 3
   },
   "file_extension": ".py",
   "mimetype": "text/x-python",
   "name": "python",
   "nbconvert_exporter": "python",
   "pygments_lexer": "ipython3",
   "version": "3.10.0"
  }
 },
 "nbformat": 4,
 "nbformat_minor": 1
}
